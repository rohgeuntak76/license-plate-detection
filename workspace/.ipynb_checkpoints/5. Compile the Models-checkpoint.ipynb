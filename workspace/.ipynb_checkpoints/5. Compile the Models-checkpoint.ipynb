{
 "cells": [
  {
   "cell_type": "code",
   "execution_count": 12,
   "id": "8a1e0f79-128f-4d6f-a528-25b47e78c91f",
   "metadata": {},
   "outputs": [
    {
     "name": "stdout",
     "output_type": "stream",
     "text": [
      "Token successfully refreshed.\n"
     ]
    }
   ],
   "source": [
    "%update_token"
   ]
  },
  {
   "cell_type": "code",
   "execution_count": 18,
   "id": "cb2b9b76-f9bd-4acb-b029-038e77bbf0f0",
   "metadata": {},
   "outputs": [],
   "source": [
    "import mlflow\n",
    "from mlflow import MlflowClient\n",
    "import os"
   ]
  },
  {
   "cell_type": "code",
   "execution_count": 2,
   "id": "f08ea289-d4df-4126-b9f4-70dc0edd1412",
   "metadata": {},
   "outputs": [],
   "source": [
    "client = MlflowClient()"
   ]
  },
  {
   "cell_type": "code",
   "execution_count": 21,
   "id": "4fc9861d-1229-4268-8e3f-111535c48b4b",
   "metadata": {},
   "outputs": [
    {
     "name": "stdout",
     "output_type": "stream",
     "text": [
      "name=yolo11s-license_plate; run_id=14be0ff37e03403b9f50b3cd4e8dd7a5; version=4\n",
      "name=yolo11s-license_plate; run_id=14be0ff37e03403b9f50b3cd4e8dd7a5; version=1\n",
      "4\n"
     ]
    },
    {
     "data": {
      "application/vnd.jupyter.widget-view+json": {
       "model_id": "6520e94dd8f9495bbc0688d5b4e68d39",
       "version_major": 2,
       "version_minor": 0
      },
      "text/plain": [
       "Downloading artifacts:   0%|          | 0/2 [00:00<?, ?it/s]"
      ]
     },
     "metadata": {},
     "output_type": "display_data"
    },
    {
     "name": "stdout",
     "output_type": "stream",
     "text": [
      "Artifacts downloaded in: /mnt/user/license_detection/finetune/artifact_downloads/14be0ff37e03403b9f50b3cd4e8dd7a5/weights\n",
      "Artifacts: ['best.pt', 'last.pt']\n"
     ]
    }
   ],
   "source": [
    "model_name = \"yolo11s-license_plate\"\n",
    "filter_string = f\"name='{model_name}'\"\n",
    "results = client.search_model_versions(filter_string,order_by=['last_updated_timestamp DESC'])\n",
    "\n",
    "for res in results:\n",
    "    print(f\"name={res.name}; run_id={res.run_id}; version={res.version}\")\n",
    "\n",
    "latest_results = results[0]\n",
    "\n",
    "local_dir = f\"artifact_downloads/{latest_results.run_id}\"\n",
    "if not os.path.exists(local_dir):\n",
    "    os.mkdir(local_dir)\n",
    "\n",
    "local_path = client.download_artifacts(latest_results.run_id, \"weights\", local_dir)\n",
    "print(f\"Artifacts downloaded in: {local_path}\")\n",
    "print(f\"Artifacts: {os.listdir(local_path)}\")"
   ]
  },
  {
   "cell_type": "code",
   "execution_count": 22,
   "id": "a935f928-8174-4b79-bdc0-01d318758d27",
   "metadata": {},
   "outputs": [],
   "source": [
    "from ultralytics import YOLO"
   ]
  },
  {
   "cell_type": "code",
   "execution_count": 24,
   "id": "f17707d5-c9c0-40dc-a7ce-4ec5a6678ff1",
   "metadata": {},
   "outputs": [],
   "source": [
    "best_model = local_path + \"/best.pt\"\n",
    "\n",
    "license_detector = YOLO(best_model)"
   ]
  },
  {
   "cell_type": "code",
   "execution_count": 26,
   "id": "28030c24-9528-4709-8fd6-05f916ac58d7",
   "metadata": {},
   "outputs": [
    {
     "data": {
      "text/plain": [
       "{0: 'License_Plate'}"
      ]
     },
     "execution_count": 26,
     "metadata": {},
     "output_type": "execute_result"
    }
   ],
   "source": [
    "license_detector.names"
   ]
  },
  {
   "cell_type": "code",
   "execution_count": 37,
   "id": "2008475f-4232-4779-bad8-5ac9be0d8d6e",
   "metadata": {
    "scrolled": true
   },
   "outputs": [
    {
     "name": "stdout",
     "output_type": "stream",
     "text": [
      "Ultralytics 8.3.144 🚀 Python-3.11.9 torch-2.7.0+cu126 CUDA:0 (NVIDIA L40S, 45589MiB)\n",
      "YOLO11s summary (fused): 100 layers, 9,413,187 parameters, 0 gradients, 21.3 GFLOPs\n",
      "\n",
      "\u001b[34m\u001b[1mPyTorch:\u001b[0m starting from '/mnt/user/license_detection/finetune/artifact_downloads/14be0ff37e03403b9f50b3cd4e8dd7a5/weights/best.pt' with input shape (1, 3, 640, 640) BCHW and output shape(s) (1, 5, 8400) (18.3 MB)\n",
      "\n",
      "\u001b[34m\u001b[1mONNX:\u001b[0m starting export with onnx 1.17.0 opset 19...\n",
      "\u001b[34m\u001b[1mONNX:\u001b[0m slimming with onnxslim 0.1.53...\n",
      "\u001b[34m\u001b[1mONNX:\u001b[0m export success ✅ 1.3s, saved as '/mnt/user/license_detection/finetune/artifact_downloads/14be0ff37e03403b9f50b3cd4e8dd7a5/weights/best.onnx' (36.2 MB)\n",
      "\n",
      "Export complete (1.5s)\n",
      "Results saved to \u001b[1m/mnt/user/license_detection/finetune/artifact_downloads/14be0ff37e03403b9f50b3cd4e8dd7a5/weights\u001b[0m\n",
      "Predict:         yolo predict task=detect model=/mnt/user/license_detection/finetune/artifact_downloads/14be0ff37e03403b9f50b3cd4e8dd7a5/weights/best.onnx imgsz=640  \n",
      "Validate:        yolo val task=detect model=/mnt/user/license_detection/finetune/artifact_downloads/14be0ff37e03403b9f50b3cd4e8dd7a5/weights/best.onnx imgsz=640 data=./datasets/data.yaml  \n",
      "Visualize:       https://netron.app\n"
     ]
    }
   ],
   "source": [
    "onnx_no_nms_no_dynamic_32 = license_detector.export(format=\"onnx\",nms=False,dynamic=False,half=False,device=0)"
   ]
  },
  {
   "cell_type": "code",
   "execution_count": 38,
   "id": "ddeffcdd-8551-46cd-a63b-d73ebe5de1f9",
   "metadata": {},
   "outputs": [
    {
     "name": "stdout",
     "output_type": "stream",
     "text": [
      "/mnt/user/license_detection/finetune/artifact_downloads/14be0ff37e03403b9f50b3cd4e8dd7a5/weights/best.onnx\n"
     ]
    }
   ],
   "source": [
    "print(onnx_no_nms_no_dynamic_32)"
   ]
  },
  {
   "cell_type": "code",
   "execution_count": 41,
   "id": "36380fcc-33da-4831-89dc-7c01fd4767b9",
   "metadata": {},
   "outputs": [
    {
     "data": {
      "text/plain": [
       "['.ipynb_checkpoints', 'best.pt', 'last.pt', 'onnx_no_nms_no_dynamic_32.onnx']"
      ]
     },
     "execution_count": 41,
     "metadata": {},
     "output_type": "execute_result"
    }
   ],
   "source": [
    "os.rename(onnx_no_nms_no_dynamic_32, local_path + \"/onnx_no_nms_no_dynamic_32.onnx\")\n",
    "os.listdir(local_path)"
   ]
  },
  {
   "cell_type": "code",
   "execution_count": 49,
   "id": "a20c17e9-d57b-40ff-a07e-58ee1e7909c8",
   "metadata": {
    "scrolled": true
   },
   "outputs": [
    {
     "name": "stdout",
     "output_type": "stream",
     "text": [
      "Ultralytics 8.3.144 🚀 Python-3.11.9 torch-2.7.0+cu126 CUDA:0 (NVIDIA L40S, 45589MiB)\n",
      "YOLO11s summary (fused): 100 layers, 9,413,187 parameters, 0 gradients, 21.3 GFLOPs\n",
      "\n",
      "\u001b[34m\u001b[1mPyTorch:\u001b[0m starting from '/mnt/user/license_detection/finetune/artifact_downloads/14be0ff37e03403b9f50b3cd4e8dd7a5/weights/best.pt' with input shape (1, 3, 640, 640) BCHW and output shape(s) (1, 300, 6) (18.3 MB)\n",
      "\n",
      "\u001b[34m\u001b[1mONNX:\u001b[0m starting export with onnx 1.17.0 opset 19...\n",
      "\u001b[34m\u001b[1mONNX:\u001b[0m slimming with onnxslim 0.1.53...\n",
      "\u001b[34m\u001b[1mONNX:\u001b[0m export success ✅ 1.9s, saved as '/mnt/user/license_detection/finetune/artifact_downloads/14be0ff37e03403b9f50b3cd4e8dd7a5/weights/best.onnx' (36.2 MB)\n",
      "\n",
      "Export complete (2.1s)\n",
      "Results saved to \u001b[1m/mnt/user/license_detection/finetune/artifact_downloads/14be0ff37e03403b9f50b3cd4e8dd7a5/weights\u001b[0m\n",
      "Predict:         yolo predict task=detect model=/mnt/user/license_detection/finetune/artifact_downloads/14be0ff37e03403b9f50b3cd4e8dd7a5/weights/best.onnx imgsz=640  \n",
      "Validate:        yolo val task=detect model=/mnt/user/license_detection/finetune/artifact_downloads/14be0ff37e03403b9f50b3cd4e8dd7a5/weights/best.onnx imgsz=640 data=./datasets/data.yaml  \n",
      "Visualize:       https://netron.app\n"
     ]
    }
   ],
   "source": [
    "onnx_nms_no_dynamic_32 = license_detector.export(format=\"onnx\",nms=True,dynamic=False,half=False,device=0)"
   ]
  },
  {
   "cell_type": "code",
   "execution_count": 50,
   "id": "8510f4a7-87ef-4ca1-b9e0-827dd1902f31",
   "metadata": {},
   "outputs": [
    {
     "name": "stdout",
     "output_type": "stream",
     "text": [
      "/mnt/user/license_detection/finetune/artifact_downloads/14be0ff37e03403b9f50b3cd4e8dd7a5/weights/best.onnx\n"
     ]
    },
    {
     "data": {
      "text/plain": [
       "['.ipynb_checkpoints',\n",
       " 'best.pt',\n",
       " 'last.pt',\n",
       " 'onnx_nms_no_dynamic_32.onnx',\n",
       " 'onnx_no_nms_no_dynamic_32.onnx']"
      ]
     },
     "execution_count": 50,
     "metadata": {},
     "output_type": "execute_result"
    }
   ],
   "source": [
    "print(onnx_nms_no_dynamic_32)\n",
    "os.rename(onnx_nms_no_dynamic_32, local_path + \"/onnx_nms_no_dynamic_32.onnx\")\n",
    "os.listdir(local_path)"
   ]
  },
  {
   "cell_type": "code",
   "execution_count": 51,
   "id": "54012e0e-fb24-4d3e-8f33-24e6c422fdd5",
   "metadata": {
    "scrolled": true
   },
   "outputs": [
    {
     "name": "stdout",
     "output_type": "stream",
     "text": [
      "Ultralytics 8.3.144 🚀 Python-3.11.9 torch-2.7.0+cu126 CUDA:0 (NVIDIA L40S, 45589MiB)\n",
      "YOLO11s summary (fused): 100 layers, 9,413,187 parameters, 0 gradients, 21.3 GFLOPs\n",
      "\n",
      "\u001b[34m\u001b[1mPyTorch:\u001b[0m starting from '/mnt/user/license_detection/finetune/artifact_downloads/14be0ff37e03403b9f50b3cd4e8dd7a5/weights/best.pt' with input shape (1, 3, 640, 640) BCHW and output shape(s) (1, 300, 6) (18.3 MB)\n",
      "\n",
      "\u001b[34m\u001b[1mONNX:\u001b[0m starting export with onnx 1.17.0 opset 19...\n",
      "\u001b[34m\u001b[1mONNX:\u001b[0m slimming with onnxslim 0.1.53...\n",
      "\u001b[34m\u001b[1mONNX:\u001b[0m export success ✅ 3.3s, saved as '/mnt/user/license_detection/finetune/artifact_downloads/14be0ff37e03403b9f50b3cd4e8dd7a5/weights/best.onnx' (36.0 MB)\n",
      "\n",
      "Export complete (3.4s)\n",
      "Results saved to \u001b[1m/mnt/user/license_detection/finetune/artifact_downloads/14be0ff37e03403b9f50b3cd4e8dd7a5/weights\u001b[0m\n",
      "Predict:         yolo predict task=detect model=/mnt/user/license_detection/finetune/artifact_downloads/14be0ff37e03403b9f50b3cd4e8dd7a5/weights/best.onnx imgsz=640  \n",
      "Validate:        yolo val task=detect model=/mnt/user/license_detection/finetune/artifact_downloads/14be0ff37e03403b9f50b3cd4e8dd7a5/weights/best.onnx imgsz=640 data=./datasets/data.yaml  \n",
      "Visualize:       https://netron.app\n"
     ]
    }
   ],
   "source": [
    "onnx_nms_dynamic_32 = license_detector.export(format=\"onnx\",nms=True,dynamic=True,half=False,device=0)"
   ]
  },
  {
   "cell_type": "code",
   "execution_count": 52,
   "id": "011e60c2-6eb5-48b0-9c8a-c6b067dabea5",
   "metadata": {},
   "outputs": [
    {
     "name": "stdout",
     "output_type": "stream",
     "text": [
      "/mnt/user/license_detection/finetune/artifact_downloads/14be0ff37e03403b9f50b3cd4e8dd7a5/weights/best.onnx\n"
     ]
    },
    {
     "data": {
      "text/plain": [
       "['.ipynb_checkpoints',\n",
       " 'best.pt',\n",
       " 'last.pt',\n",
       " 'onnx_nms_dynamic_32.onnx',\n",
       " 'onnx_nms_no_dynamic_32.onnx',\n",
       " 'onnx_no_nms_no_dynamic_32.onnx']"
      ]
     },
     "execution_count": 52,
     "metadata": {},
     "output_type": "execute_result"
    }
   ],
   "source": [
    "print(onnx_nms_dynamic_32)\n",
    "os.rename(onnx_nms_dynamic_32, local_path + \"/onnx_nms_dynamic_32.onnx\")\n",
    "os.listdir(local_path)"
   ]
  },
  {
   "cell_type": "code",
   "execution_count": 53,
   "id": "dafecc7c-29cd-45c9-b504-3aa082956163",
   "metadata": {},
   "outputs": [
    {
     "name": "stdout",
     "output_type": "stream",
     "text": [
      "Ultralytics 8.3.144 🚀 Python-3.11.9 torch-2.7.0+cu126 CUDA:0 (NVIDIA L40S, 45589MiB)\n",
      "YOLO11s summary (fused): 100 layers, 9,413,187 parameters, 0 gradients, 21.3 GFLOPs\n",
      "\n",
      "\u001b[34m\u001b[1mPyTorch:\u001b[0m starting from '/mnt/user/license_detection/finetune/artifact_downloads/14be0ff37e03403b9f50b3cd4e8dd7a5/weights/best.pt' with input shape (1, 3, 640, 640) BCHW and output shape(s) (1, 300, 6) (18.3 MB)\n",
      "\n",
      "\u001b[34m\u001b[1mONNX:\u001b[0m starting export with onnx 1.17.0 opset 19...\n",
      "\u001b[34m\u001b[1mONNX:\u001b[0m slimming with onnxslim 0.1.53...\n",
      "\u001b[34m\u001b[1mONNX:\u001b[0m export success ✅ 3.4s, saved as '/mnt/user/license_detection/finetune/artifact_downloads/14be0ff37e03403b9f50b3cd4e8dd7a5/weights/best.onnx' (18.1 MB)\n",
      "\n",
      "Export complete (3.6s)\n",
      "Results saved to \u001b[1m/mnt/user/license_detection/finetune/artifact_downloads/14be0ff37e03403b9f50b3cd4e8dd7a5/weights\u001b[0m\n",
      "Predict:         yolo predict task=detect model=/mnt/user/license_detection/finetune/artifact_downloads/14be0ff37e03403b9f50b3cd4e8dd7a5/weights/best.onnx imgsz=640 half \n",
      "Validate:        yolo val task=detect model=/mnt/user/license_detection/finetune/artifact_downloads/14be0ff37e03403b9f50b3cd4e8dd7a5/weights/best.onnx imgsz=640 data=./datasets/data.yaml half \n",
      "Visualize:       https://netron.app\n"
     ]
    }
   ],
   "source": [
    "onnx_nms_dynamic_16 = license_detector.export(format=\"onnx\",nms=True,dynamic=True,half=True,device=0)"
   ]
  },
  {
   "cell_type": "code",
   "execution_count": 54,
   "id": "5a801904-7c50-474e-9e7c-d6faad88135f",
   "metadata": {},
   "outputs": [
    {
     "name": "stdout",
     "output_type": "stream",
     "text": [
      "/mnt/user/license_detection/finetune/artifact_downloads/14be0ff37e03403b9f50b3cd4e8dd7a5/weights/best.onnx\n"
     ]
    },
    {
     "data": {
      "text/plain": [
       "['.ipynb_checkpoints',\n",
       " 'best.pt',\n",
       " 'last.pt',\n",
       " 'onnx_nms_dynamic_16.onnx',\n",
       " 'onnx_nms_dynamic_32.onnx',\n",
       " 'onnx_nms_no_dynamic_32.onnx',\n",
       " 'onnx_no_nms_no_dynamic_32.onnx']"
      ]
     },
     "execution_count": 54,
     "metadata": {},
     "output_type": "execute_result"
    }
   ],
   "source": [
    "print(onnx_nms_dynamic_16)\n",
    "os.rename(onnx_nms_dynamic_16, local_path + \"/onnx_nms_dynamic_16.onnx\")\n",
    "os.listdir(local_path)"
   ]
  },
  {
   "cell_type": "markdown",
   "id": "5fe768e6-6274-4717-856b-5c4ef37c7e2f",
   "metadata": {},
   "source": [
    "# TensorRT engine Conversion"
   ]
  },
  {
   "cell_type": "code",
   "execution_count": 55,
   "id": "7249b83c-bfc9-47d5-9e5f-7b850b320c8c",
   "metadata": {
    "scrolled": true
   },
   "outputs": [
    {
     "name": "stdout",
     "output_type": "stream",
     "text": [
      "Ultralytics 8.3.144 🚀 Python-3.11.9 torch-2.7.0+cu126 CUDA:0 (NVIDIA L40S, 45589MiB)\n",
      "YOLO11s summary (fused): 100 layers, 9,413,187 parameters, 0 gradients, 21.3 GFLOPs\n",
      "\n",
      "\u001b[34m\u001b[1mPyTorch:\u001b[0m starting from '/mnt/user/license_detection/finetune/artifact_downloads/14be0ff37e03403b9f50b3cd4e8dd7a5/weights/best.pt' with input shape (1, 3, 640, 640) BCHW and output shape(s) (1, 5, 8400) (18.3 MB)\n",
      "\n",
      "\u001b[34m\u001b[1mONNX:\u001b[0m starting export with onnx 1.17.0 opset 19...\n",
      "\u001b[34m\u001b[1mONNX:\u001b[0m slimming with onnxslim 0.1.53...\n",
      "\u001b[34m\u001b[1mONNX:\u001b[0m export success ✅ 0.9s, saved as '/mnt/user/license_detection/finetune/artifact_downloads/14be0ff37e03403b9f50b3cd4e8dd7a5/weights/best.onnx' (36.2 MB)\n",
      "\u001b[31m\u001b[1mrequirements:\u001b[0m Ultralytics requirement ['tensorrt>7.0.0,!=10.1.0'] not found, attempting AutoUpdate...\n",
      "Collecting tensorrt!=10.1.0,>7.0.0\n",
      "  Downloading tensorrt-10.11.0.33.tar.gz (40 kB)\n",
      "  Preparing metadata (setup.py): started\n",
      "  Preparing metadata (setup.py): finished with status 'done'\n",
      "Collecting tensorrt_cu12==10.11.0.33 (from tensorrt!=10.1.0,>7.0.0)\n",
      "  Downloading tensorrt_cu12-10.11.0.33.tar.gz (18 kB)\n",
      "  Preparing metadata (setup.py): started\n",
      "  Preparing metadata (setup.py): finished with status 'done'\n",
      "Collecting tensorrt_cu12_libs==10.11.0.33 (from tensorrt_cu12==10.11.0.33->tensorrt!=10.1.0,>7.0.0)\n",
      "  Downloading tensorrt_cu12_libs-10.11.0.33.tar.gz (709 bytes)\n",
      "  Installing build dependencies: started\n",
      "  Installing build dependencies: finished with status 'done'\n",
      "  Getting requirements to build wheel: started\n",
      "  Getting requirements to build wheel: finished with status 'done'\n",
      "  Preparing metadata (pyproject.toml): started\n",
      "  Preparing metadata (pyproject.toml): finished with status 'done'\n",
      "Collecting tensorrt_cu12_bindings==10.11.0.33 (from tensorrt_cu12==10.11.0.33->tensorrt!=10.1.0,>7.0.0)\n",
      "  Downloading tensorrt_cu12_bindings-10.11.0.33-cp311-none-manylinux_2_28_x86_64.whl.metadata (607 bytes)\n",
      "Requirement already satisfied: nvidia-cuda-runtime-cu12 in /opt/conda/lib/python3.11/site-packages (from tensorrt_cu12_libs==10.11.0.33->tensorrt_cu12==10.11.0.33->tensorrt!=10.1.0,>7.0.0) (12.6.77)\n",
      "Downloading tensorrt_cu12_bindings-10.11.0.33-cp311-none-manylinux_2_28_x86_64.whl (1.2 MB)\n",
      "   ━━━━━━━━━━━━━━━━━━━━━━━━━━━━━━━━━━━━━━━━ 1.2/1.2 MB 27.9 MB/s eta 0:00:00\n",
      "Building wheels for collected packages: tensorrt, tensorrt_cu12, tensorrt_cu12_libs\n",
      "  Building wheel for tensorrt (setup.py): started\n",
      "  Building wheel for tensorrt (setup.py): finished with status 'done'\n",
      "  Created wheel for tensorrt: filename=tensorrt-10.11.0.33-py2.py3-none-any.whl size=46635 sha256=5e31b22035b70f9026ed965aab146305b8c8cb42c2ba49e99825e577550e5359\n",
      "  Stored in directory: /tmp/pip-ephem-wheel-cache-xja436of/wheels/51/0f/9e/665c21496fef6a1b3e8a618503135e16b4a00057f949eb0b70\n",
      "  Building wheel for tensorrt_cu12 (setup.py): started\n",
      "  Building wheel for tensorrt_cu12 (setup.py): finished with status 'done'\n",
      "  Created wheel for tensorrt_cu12: filename=tensorrt_cu12-10.11.0.33-py2.py3-none-any.whl size=17480 sha256=c2a1469896c007bf68c9f22d03cac7fe5dbc26195c3ea82d6f8d0dae66b9a14a\n",
      "  Stored in directory: /tmp/pip-ephem-wheel-cache-xja436of/wheels/2b/17/10/4409dc0944d985b8eae18e255fd57b6d33318977c0e2fe169a\n",
      "  Building wheel for tensorrt_cu12_libs (pyproject.toml): started\n",
      "  Building wheel for tensorrt_cu12_libs (pyproject.toml): finished with status 'done'\n",
      "  Created wheel for tensorrt_cu12_libs: filename=tensorrt_cu12_libs-10.11.0.33-py2.py3-none-manylinux_2_28_x86_64.whl size=3095447966 sha256=81ace8d3284fdbef0804c444a4d7555343ee079370e79c93cb328c7d9b08f968\n",
      "  Stored in directory: /tmp/pip-ephem-wheel-cache-xja436of/wheels/c2/d6/c6/7c9be8eb2ca2ec21baa7eda6a2192d56c1a17efcb8523cdf34\n",
      "Successfully built tensorrt tensorrt_cu12 tensorrt_cu12_libs\n",
      "Installing collected packages: tensorrt_cu12_bindings, tensorrt_cu12_libs, tensorrt_cu12, tensorrt\n",
      "Successfully installed tensorrt-10.11.0.33 tensorrt_cu12-10.11.0.33 tensorrt_cu12_bindings-10.11.0.33 tensorrt_cu12_libs-10.11.0.33\n",
      "\n",
      "\u001b[31m\u001b[1mrequirements:\u001b[0m AutoUpdate success ✅ 320.6s\n",
      "WARNING ⚠️ \u001b[31m\u001b[1mrequirements:\u001b[0m \u001b[1mRestart runtime or rerun command for updates to take effect\u001b[0m\n",
      "\n",
      "\n",
      "\u001b[34m\u001b[1mTensorRT:\u001b[0m starting export with TensorRT 10.11.0.33...\n",
      "[05/27/2025-06:06:06] [TRT] [I] [MemUsageChange] Init CUDA: CPU -2, GPU +0, now: CPU 2550, GPU 1532 (MiB)\n",
      "[05/27/2025-06:06:07] [TRT] [I] [MemUsageChange] Init builder kernel library: CPU +1336, GPU +6, now: CPU 3684, GPU 1538 (MiB)\n",
      "[05/27/2025-06:06:07] [TRT] [I] ----------------------------------------------------------------\n",
      "[05/27/2025-06:06:07] [TRT] [I] Input filename:   /mnt/user/license_detection/finetune/artifact_downloads/14be0ff37e03403b9f50b3cd4e8dd7a5/weights/best.onnx\n",
      "[05/27/2025-06:06:07] [TRT] [I] ONNX IR version:  0.0.9\n",
      "[05/27/2025-06:06:07] [TRT] [I] Opset version:    19\n",
      "[05/27/2025-06:06:07] [TRT] [I] Producer name:    pytorch\n",
      "[05/27/2025-06:06:07] [TRT] [I] Producer version: 2.7.0\n",
      "[05/27/2025-06:06:07] [TRT] [I] Domain:           \n",
      "[05/27/2025-06:06:07] [TRT] [I] Model version:    0\n",
      "[05/27/2025-06:06:07] [TRT] [I] Doc string:       \n",
      "[05/27/2025-06:06:07] [TRT] [I] ----------------------------------------------------------------\n",
      "\u001b[34m\u001b[1mTensorRT:\u001b[0m input \"images\" with shape(1, 3, 640, 640) DataType.FLOAT\n",
      "\u001b[34m\u001b[1mTensorRT:\u001b[0m output \"output0\" with shape(1, 5, 8400) DataType.FLOAT\n",
      "\u001b[34m\u001b[1mTensorRT:\u001b[0m building FP32 engine as /mnt/user/license_detection/finetune/artifact_downloads/14be0ff37e03403b9f50b3cd4e8dd7a5/weights/best.engine\n",
      "[05/27/2025-06:06:10] [TRT] [I] Local timing cache in use. Profiling results in this builder pass will not be stored.\n",
      "[05/27/2025-06:06:47] [TRT] [I] Compiler backend is used during engine build.\n",
      "[05/27/2025-06:07:33] [TRT] [I] Detected 1 inputs and 1 output network tensors.\n",
      "[05/27/2025-06:07:33] [TRT] [I] Total Host Persistent Memory: 568224 bytes\n",
      "[05/27/2025-06:07:33] [TRT] [I] Total Device Persistent Memory: 9728 bytes\n",
      "[05/27/2025-06:07:33] [TRT] [I] Max Scratch Memory: 5529600 bytes\n",
      "[05/27/2025-06:07:33] [TRT] [I] [BlockAssignment] Started assigning block shifts. This will take 251 steps to complete.\n",
      "[05/27/2025-06:07:33] [TRT] [I] [BlockAssignment] Algorithm ShiftNTopDown took 13.0687ms to assign 11 blocks to 251 nodes requiring 37709824 bytes.\n",
      "[05/27/2025-06:07:33] [TRT] [I] Total Activation Memory: 37708800 bytes\n",
      "[05/27/2025-06:07:33] [TRT] [I] Total Weights Memory: 43389508 bytes\n",
      "[05/27/2025-06:07:33] [TRT] [I] Compiler backend is used during engine execution.\n",
      "[05/27/2025-06:07:33] [TRT] [I] Engine generation completed in 83.3391 seconds.\n",
      "[05/27/2025-06:07:33] [TRT] [I] [MemUsageStats] Peak memory usage of TRT CPU/GPU memory allocators: CPU 4 MiB, GPU 133 MiB\n",
      "\u001b[34m\u001b[1mTensorRT:\u001b[0m export success ✅ 409.6s, saved as '/mnt/user/license_detection/finetune/artifact_downloads/14be0ff37e03403b9f50b3cd4e8dd7a5/weights/best.engine' (46.8 MB)\n",
      "\n",
      "Export complete (409.8s)\n",
      "Results saved to \u001b[1m/mnt/user/license_detection/finetune/artifact_downloads/14be0ff37e03403b9f50b3cd4e8dd7a5/weights\u001b[0m\n",
      "Predict:         yolo predict task=detect model=/mnt/user/license_detection/finetune/artifact_downloads/14be0ff37e03403b9f50b3cd4e8dd7a5/weights/best.engine imgsz=640  \n",
      "Validate:        yolo val task=detect model=/mnt/user/license_detection/finetune/artifact_downloads/14be0ff37e03403b9f50b3cd4e8dd7a5/weights/best.engine imgsz=640 data=./datasets/data.yaml  \n",
      "Visualize:       https://netron.app\n"
     ]
    }
   ],
   "source": [
    "trt_no_nms_no_dynamic_32 = license_detector.export(format=\"engine\",nms=False,dynamic=False,half=False,device=0)"
   ]
  },
  {
   "cell_type": "code",
   "execution_count": 59,
   "id": "764601b5-c274-45a7-8870-526293d59035",
   "metadata": {},
   "outputs": [
    {
     "data": {
      "text/plain": [
       "['.ipynb_checkpoints',\n",
       " 'best.pt',\n",
       " 'last.pt',\n",
       " 'onnx_nms_dynamic_16.onnx',\n",
       " 'onnx_nms_dynamic_32.onnx',\n",
       " 'onnx_nms_no_dynamic_32.onnx',\n",
       " 'onnx_no_nms_no_dynamic_32.onnx',\n",
       " 'trt_no_nms_no_dynamic_32.engine']"
      ]
     },
     "execution_count": 59,
     "metadata": {},
     "output_type": "execute_result"
    }
   ],
   "source": [
    "trt_no_nms_no_dynamic_32\n",
    "os.rename(trt_no_nms_no_dynamic_32, local_path + \"/trt_no_nms_no_dynamic_32.engine\")\n",
    "os.remove(local_path + \"/best.onnx\")\n",
    "os.listdir(local_path)"
   ]
  },
  {
   "cell_type": "code",
   "execution_count": null,
   "id": "faeaa50d-a5ad-4965-b0ae-c8382701ef08",
   "metadata": {},
   "outputs": [],
   "source": []
  }
 ],
 "metadata": {
  "kernelspec": {
   "display_name": "Python 3 (ipykernel)",
   "language": "python",
   "name": "python3"
  },
  "language_info": {
   "codemirror_mode": {
    "name": "ipython",
    "version": 3
   },
   "file_extension": ".py",
   "mimetype": "text/x-python",
   "name": "python",
   "nbconvert_exporter": "python",
   "pygments_lexer": "ipython3",
   "version": "3.11.9"
  }
 },
 "nbformat": 4,
 "nbformat_minor": 5
}
