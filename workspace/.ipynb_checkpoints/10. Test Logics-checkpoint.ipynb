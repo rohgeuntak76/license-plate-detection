{
 "cells": [
  {
   "cell_type": "code",
   "execution_count": null,
   "id": "0727ed59-87a7-4d5c-8603-c499dd5bcecf",
   "metadata": {},
   "outputs": [],
   "source": [
    "%update_token"
   ]
  },
  {
   "cell_type": "code",
   "execution_count": 1,
   "id": "8cf71eb5-9678-49ec-9b9e-75680c098972",
   "metadata": {},
   "outputs": [],
   "source": [
    "from ultralytics import YOLO\n",
    "from PIL import Image\n",
    "import io\n",
    "import numpy as np\n",
    "import cv2 as cv\n",
    "import easyocr\n",
    "\n",
    "import os"
   ]
  },
  {
   "cell_type": "code",
   "execution_count": 2,
   "id": "11e0aec7-5593-420c-be33-a8a8cc033e77",
   "metadata": {},
   "outputs": [
    {
     "name": "stderr",
     "output_type": "stream",
     "text": [
      "Using CPU. Note: This module is much faster with a GPU.\n"
     ]
    }
   ],
   "source": [
    "vehicle_detector = YOLO(\"http://license-plate-detector-engines-predictor-00001-private.default.svc.cluster.local/vehicle_detector\",task='detect')\n",
    "vehicle_tracker = YOLO(\"http://license-plate-detector-engines-predictor-00001-private.default.svc.cluster.local/vehicle_detector\",task='detect')\n",
    "license_detector = YOLO(\"http://license-plate-detector-engines-predictor-00001-private.default.svc.cluster.local/license_detector\",task='detect')\n",
    "# vehicle_detector = YOLO(\"http://triton-test-predictor-00002-private.geun-tak-roh-hp-57f69d47.svc.cluster.local/vehicle_detector\",task='detect')\n",
    "# vehicle_tracker = YOLO(\"http://triton-test-predictor-00002-private.geun-tak-roh-hp-57f69d47.svc.cluster.local/vehicle_detector\",task='detect')\n",
    "# license_detector = YOLO(\"http://triton-test-predictor-00002-private.geun-tak-roh-hp-57f69d47.svc.cluster.local/license_detector\",task='detect')\n",
    "plate_reader = easyocr.Reader(['en'],gpu=False)\n",
    "# vehicle_detector = YOLO(\"yolo11s\",task='detect')\n",
    "# vehicle_tracker = YOLO(\"yolo11s\")\n",
    "# license_detector = YOLO(\"http://license-plate-detector-engines-predictor-00001-private.default.svc.cluster.local/license_detector\",task='detect')\n",
    "# plate_reader = easyocr.Reader(['en'],gpu=False)"
   ]
  },
  {
   "cell_type": "code",
   "execution_count": 3,
   "id": "efc806cd-76a3-4e96-962f-13754f6309d2",
   "metadata": {},
   "outputs": [],
   "source": [
    "def reset_tracker():\n",
    "    if len(vehicle_tracker.predictor.trackers) > 0:\n",
    "        vehicle_tracker.predictor.trackers[0].reset()\n",
    "        print(vehicle_tracker.predictor.trackers[0])\n",
    "        return True\n",
    "    else:\n",
    "        print('tracker does not exists')"
   ]
  },
  {
   "cell_type": "code",
   "execution_count": 4,
   "id": "2cba0581-8e84-408e-875d-b2eb8d512b6a",
   "metadata": {},
   "outputs": [],
   "source": [
    "import string\n",
    "\n",
    "dict_char_to_int = {'O': '0',\n",
    "                    'I': '1',\n",
    "                    'J': '3',\n",
    "                    'A': '4',\n",
    "                    'G': '6',\n",
    "                    'S': '5'}\n",
    "\n",
    "dict_int_to_char = {'0': 'O',\n",
    "                    '1': 'I',\n",
    "                    '3': 'J',\n",
    "                    '4': 'A',\n",
    "                    '6': 'G',\n",
    "                    '5': 'S'}\n",
    "\n",
    "def license_complies_format(text):\n",
    "    # True if the license plate complies with the format, False otherwise.\n",
    "    if len(text) != 7:\n",
    "        return False\n",
    "\n",
    "    if (text[0] in string.ascii_uppercase or text[0] in dict_int_to_char.keys()) and \\\n",
    "       (text[1] in string.ascii_uppercase or text[1] in dict_int_to_char.keys()) and \\\n",
    "       (text[2] in ['0', '1', '2', '3', '4', '5', '6', '7', '8', '9'] or text[2] in dict_char_to_int.keys()) and \\\n",
    "       (text[3] in ['0', '1', '2', '3', '4', '5', '6', '7', '8', '9'] or text[3] in dict_char_to_int.keys()) and \\\n",
    "       (text[4] in string.ascii_uppercase or text[4] in dict_int_to_char.keys()) and \\\n",
    "       (text[5] in string.ascii_uppercase or text[5] in dict_int_to_char.keys()) and \\\n",
    "       (text[6] in string.ascii_uppercase or text[6] in dict_int_to_char.keys()):\n",
    "        return True\n",
    "    else:\n",
    "        return False\n",
    "\n",
    "\n",
    "def format_license(text):\n",
    "    license_plate_ = ''\n",
    "    mapping = {\n",
    "        0: dict_int_to_char,\n",
    "        1: dict_int_to_char,\n",
    "        2: dict_char_to_int, \n",
    "        3: dict_char_to_int,\n",
    "        4: dict_int_to_char, \n",
    "        5: dict_int_to_char, \n",
    "        6: dict_int_to_char\n",
    "    }\n",
    "    for j in [0, 1, 2, 3, 4, 5, 6]:\n",
    "        if text[j] in mapping[j].keys():\n",
    "            license_plate_ += mapping[j][text[j]]\n",
    "        else:\n",
    "            license_plate_ += text[j]\n",
    "\n",
    "    return license_plate_\n"
   ]
  },
  {
   "cell_type": "code",
   "execution_count": 5,
   "id": "4ed31c6e-69db-462c-aed0-410f2defb1e9",
   "metadata": {},
   "outputs": [],
   "source": [
    "def read_license_plate(detections):\n",
    "\n",
    "    for detection in detections:\n",
    "        bbox, text, score = detection\n",
    "        text = text.upper().replace(' ', '')\n",
    "\n",
    "        # verify that text is conform to a standard license plate\n",
    "        if license_complies_format(text):\n",
    "            # bring text into the default license plate format\n",
    "            return format_license(text), score\n",
    "\n",
    "    return None, None"
   ]
  },
  {
   "cell_type": "code",
   "execution_count": 6,
   "id": "26025519-eedb-4189-9ea9-d646c3973e61",
   "metadata": {},
   "outputs": [],
   "source": [
    "def crop_vehicle_license_then_read(input_image,vehicle_conf: float = 0.25,license_conf: float = 0.25,frame_number: int = 0):\n",
    "    # frame_results = {}\n",
    "    frame_results = [] # change return value type as list\n",
    "\n",
    "    vehicle_results = vehicle_tracker.track(input_image, persist=True,conf=vehicle_conf,classes=vehicles_id)[0]\n",
    "\n",
    "    for vehicle_result in vehicle_results.boxes.data.tolist():\n",
    "        x1, y1, x2, y2, track_id, score, class_id = vehicle_result\n",
    "        vehicle_bounding_boxes = []\n",
    "        vehicle_bounding_boxes.append([x1, y1, x2, y2, track_id, score])\n",
    "        for bbox in vehicle_bounding_boxes: \n",
    "            roi = input_image[int(y1):int(y2), int(x1):int(x2)] # crop the vehicle\n",
    "            license_plates = license_detector(roi,conf=license_conf)[0]\n",
    "            for license_plate in license_plates.boxes.data.tolist():\n",
    "                print(track_id)\n",
    "                plate_x1, plate_y1, plate_x2, plate_y2, plate_score, _ = license_plate\n",
    "\n",
    "                # crop license plate\n",
    "                plate = roi[int(plate_y1):int(plate_y2), int(plate_x1):int(plate_x2)]\n",
    "                # de-colorize\n",
    "                plate_gray = cv.cvtColor(plate, cv.COLOR_BGR2GRAY)\n",
    "                # posterize\n",
    "                _, plate_treshold = cv.threshold(plate_gray, 64, 255, cv.THRESH_BINARY_INV)\n",
    "                # ocr_detections = plate_reader.readtext(plate_treshold)\n",
    "                # lic_text, lic_score = read_license_plate(ocr_detections)\n",
    "\n",
    "                ### try rgb and gray and get the best\n",
    "                rgb_detections = plate_reader.readtext(plate)\n",
    "                gray_detections = plate_reader.readtext(plate_treshold)\n",
    "                rgb_text, rgb_score = read_license_plate(rgb_detections)\n",
    "                gray_text, gray_score = read_license_plate(gray_detections)\n",
    "                \n",
    "                candidates = [(rgb_text,rgb_score),(gray_text,gray_score)]\n",
    "                valid_candidates = [(text,score) for text,score in candidates if score is not None]\n",
    "                lic_text, lic_score = max(valid_candidates,default=(None,None))\n",
    "               \n",
    "                frame_results.append({\n",
    "                    \"frame_number\": frame_number,\n",
    "                    \"track_id\": track_id,\n",
    "                    \"vehicle_bbox\": [x1, y1, x2, y2],\n",
    "                    \"vehicle_bbox_score\": score,\n",
    "                    \"lp_bbox\": [plate_x1 , plate_y1, plate_x2, plate_y2],\n",
    "                    \"lp_bbox_score\": plate_score,\n",
    "                    \"lp_number\": lic_text,\n",
    "                    \"lp_text_score\": lic_score\n",
    "                })\n",
    "    \n",
    "    return frame_results"
   ]
  },
  {
   "cell_type": "code",
   "execution_count": 7,
   "id": "1a8b8e2c-960d-4807-b15d-837b910f8796",
   "metadata": {},
   "outputs": [],
   "source": [
    "input_path = '/mnt/user/LPD/finetune/Samples/multple_car.png'\n",
    "\n",
    "input_image = cv.imread(input_path)\n",
    "vehicles_id = [2,3,5,7]"
   ]
  },
  {
   "cell_type": "code",
   "execution_count": 8,
   "id": "9adf38cc-8914-473d-84eb-d0dcd6cfbec8",
   "metadata": {
    "scrolled": true
   },
   "outputs": [
    {
     "name": "stdout",
     "output_type": "stream",
     "text": [
      "self._parsed_url : http://triton-test-predictor-00002-private.geun-tak-roh-hp-57f69d47.svc.cluster.local\n",
      "self._base_uri : \n",
      "roh _get: /v2/models/vehicle_detector/config\n"
     ]
    },
    {
     "ename": "InferenceServerException",
     "evalue": "[403] an exception occurred in the client while decoding the response: Parse error at offset 0: Invalid value.",
     "output_type": "error",
     "traceback": [
      "\u001b[0;31m---------------------------------------------------------------------------\u001b[0m",
      "\u001b[0;31mInferenceServerException\u001b[0m                  Traceback (most recent call last)",
      "Cell \u001b[0;32mIn[8], line 1\u001b[0m\n\u001b[0;32m----> 1\u001b[0m results \u001b[38;5;241m=\u001b[39m \u001b[43mcrop_vehicle_license_then_read\u001b[49m\u001b[43m(\u001b[49m\u001b[43minput_image\u001b[49m\u001b[43m)\u001b[49m\n",
      "Cell \u001b[0;32mIn[6], line 5\u001b[0m, in \u001b[0;36mcrop_vehicle_license_then_read\u001b[0;34m(input_image, vehicle_conf, license_conf, frame_number)\u001b[0m\n\u001b[1;32m      1\u001b[0m \u001b[38;5;28;01mdef\u001b[39;00m \u001b[38;5;21mcrop_vehicle_license_then_read\u001b[39m(input_image,vehicle_conf: \u001b[38;5;28mfloat\u001b[39m \u001b[38;5;241m=\u001b[39m \u001b[38;5;241m0.25\u001b[39m,license_conf: \u001b[38;5;28mfloat\u001b[39m \u001b[38;5;241m=\u001b[39m \u001b[38;5;241m0.25\u001b[39m,frame_number: \u001b[38;5;28mint\u001b[39m \u001b[38;5;241m=\u001b[39m \u001b[38;5;241m0\u001b[39m):\n\u001b[1;32m      2\u001b[0m     \u001b[38;5;66;03m# frame_results = {}\u001b[39;00m\n\u001b[1;32m      3\u001b[0m     frame_results \u001b[38;5;241m=\u001b[39m [] \u001b[38;5;66;03m# change return value type as list\u001b[39;00m\n\u001b[0;32m----> 5\u001b[0m     vehicle_results \u001b[38;5;241m=\u001b[39m \u001b[43mvehicle_tracker\u001b[49m\u001b[38;5;241;43m.\u001b[39;49m\u001b[43mtrack\u001b[49m\u001b[43m(\u001b[49m\u001b[43minput_image\u001b[49m\u001b[43m,\u001b[49m\u001b[43m \u001b[49m\u001b[43mpersist\u001b[49m\u001b[38;5;241;43m=\u001b[39;49m\u001b[38;5;28;43;01mTrue\u001b[39;49;00m\u001b[43m,\u001b[49m\u001b[43mconf\u001b[49m\u001b[38;5;241;43m=\u001b[39;49m\u001b[43mvehicle_conf\u001b[49m\u001b[43m,\u001b[49m\u001b[43mclasses\u001b[49m\u001b[38;5;241;43m=\u001b[39;49m\u001b[43mvehicles_id\u001b[49m\u001b[43m)\u001b[49m[\u001b[38;5;241m0\u001b[39m]\n\u001b[1;32m      7\u001b[0m     \u001b[38;5;28;01mfor\u001b[39;00m vehicle_result \u001b[38;5;129;01min\u001b[39;00m vehicle_results\u001b[38;5;241m.\u001b[39mboxes\u001b[38;5;241m.\u001b[39mdata\u001b[38;5;241m.\u001b[39mtolist():\n\u001b[1;32m      8\u001b[0m         x1, y1, x2, y2, track_id, score, class_id \u001b[38;5;241m=\u001b[39m vehicle_result\n",
      "File \u001b[0;32m/opt/conda/lib/python3.11/site-packages/ultralytics/engine/model.py:607\u001b[0m, in \u001b[0;36mModel.track\u001b[0;34m(self, source, stream, persist, **kwargs)\u001b[0m\n\u001b[1;32m    605\u001b[0m kwargs[\u001b[38;5;124m\"\u001b[39m\u001b[38;5;124mbatch\u001b[39m\u001b[38;5;124m\"\u001b[39m] \u001b[38;5;241m=\u001b[39m kwargs\u001b[38;5;241m.\u001b[39mget(\u001b[38;5;124m\"\u001b[39m\u001b[38;5;124mbatch\u001b[39m\u001b[38;5;124m\"\u001b[39m) \u001b[38;5;129;01mor\u001b[39;00m \u001b[38;5;241m1\u001b[39m  \u001b[38;5;66;03m# batch-size 1 for tracking in videos\u001b[39;00m\n\u001b[1;32m    606\u001b[0m kwargs[\u001b[38;5;124m\"\u001b[39m\u001b[38;5;124mmode\u001b[39m\u001b[38;5;124m\"\u001b[39m] \u001b[38;5;241m=\u001b[39m \u001b[38;5;124m\"\u001b[39m\u001b[38;5;124mtrack\u001b[39m\u001b[38;5;124m\"\u001b[39m\n\u001b[0;32m--> 607\u001b[0m \u001b[38;5;28;01mreturn\u001b[39;00m \u001b[38;5;28;43mself\u001b[39;49m\u001b[38;5;241;43m.\u001b[39;49m\u001b[43mpredict\u001b[49m\u001b[43m(\u001b[49m\u001b[43msource\u001b[49m\u001b[38;5;241;43m=\u001b[39;49m\u001b[43msource\u001b[49m\u001b[43m,\u001b[49m\u001b[43m \u001b[49m\u001b[43mstream\u001b[49m\u001b[38;5;241;43m=\u001b[39;49m\u001b[43mstream\u001b[49m\u001b[43m,\u001b[49m\u001b[43m \u001b[49m\u001b[38;5;241;43m*\u001b[39;49m\u001b[38;5;241;43m*\u001b[39;49m\u001b[43mkwargs\u001b[49m\u001b[43m)\u001b[49m\n",
      "File \u001b[0;32m/opt/conda/lib/python3.11/site-packages/ultralytics/engine/model.py:553\u001b[0m, in \u001b[0;36mModel.predict\u001b[0;34m(self, source, stream, predictor, **kwargs)\u001b[0m\n\u001b[1;32m    551\u001b[0m \u001b[38;5;28;01mif\u001b[39;00m \u001b[38;5;129;01mnot\u001b[39;00m \u001b[38;5;28mself\u001b[39m\u001b[38;5;241m.\u001b[39mpredictor:\n\u001b[1;32m    552\u001b[0m     \u001b[38;5;28mself\u001b[39m\u001b[38;5;241m.\u001b[39mpredictor \u001b[38;5;241m=\u001b[39m (predictor \u001b[38;5;129;01mor\u001b[39;00m \u001b[38;5;28mself\u001b[39m\u001b[38;5;241m.\u001b[39m_smart_load(\u001b[38;5;124m\"\u001b[39m\u001b[38;5;124mpredictor\u001b[39m\u001b[38;5;124m\"\u001b[39m))(overrides\u001b[38;5;241m=\u001b[39margs, _callbacks\u001b[38;5;241m=\u001b[39m\u001b[38;5;28mself\u001b[39m\u001b[38;5;241m.\u001b[39mcallbacks)\n\u001b[0;32m--> 553\u001b[0m     \u001b[38;5;28;43mself\u001b[39;49m\u001b[38;5;241;43m.\u001b[39;49m\u001b[43mpredictor\u001b[49m\u001b[38;5;241;43m.\u001b[39;49m\u001b[43msetup_model\u001b[49m\u001b[43m(\u001b[49m\u001b[43mmodel\u001b[49m\u001b[38;5;241;43m=\u001b[39;49m\u001b[38;5;28;43mself\u001b[39;49m\u001b[38;5;241;43m.\u001b[39;49m\u001b[43mmodel\u001b[49m\u001b[43m,\u001b[49m\u001b[43m \u001b[49m\u001b[43mverbose\u001b[49m\u001b[38;5;241;43m=\u001b[39;49m\u001b[43mis_cli\u001b[49m\u001b[43m)\u001b[49m\n\u001b[1;32m    554\u001b[0m \u001b[38;5;28;01melse\u001b[39;00m:  \u001b[38;5;66;03m# only update args if predictor is already setup\u001b[39;00m\n\u001b[1;32m    555\u001b[0m     \u001b[38;5;28mself\u001b[39m\u001b[38;5;241m.\u001b[39mpredictor\u001b[38;5;241m.\u001b[39margs \u001b[38;5;241m=\u001b[39m get_cfg(\u001b[38;5;28mself\u001b[39m\u001b[38;5;241m.\u001b[39mpredictor\u001b[38;5;241m.\u001b[39margs, args)\n",
      "File \u001b[0;32m/opt/conda/lib/python3.11/site-packages/ultralytics/engine/predictor.py:310\u001b[0m, in \u001b[0;36mBasePredictor.setup_model\u001b[0;34m(self, model, verbose)\u001b[0m\n\u001b[1;32m    308\u001b[0m \u001b[38;5;28;01mdef\u001b[39;00m \u001b[38;5;21msetup_model\u001b[39m(\u001b[38;5;28mself\u001b[39m, model, verbose\u001b[38;5;241m=\u001b[39m\u001b[38;5;28;01mTrue\u001b[39;00m):\n\u001b[1;32m    309\u001b[0m \u001b[38;5;250m    \u001b[39m\u001b[38;5;124;03m\"\"\"Initialize YOLO model with given parameters and set it to evaluation mode.\"\"\"\u001b[39;00m\n\u001b[0;32m--> 310\u001b[0m     \u001b[38;5;28mself\u001b[39m\u001b[38;5;241m.\u001b[39mmodel \u001b[38;5;241m=\u001b[39m \u001b[43mAutoBackend\u001b[49m\u001b[43m(\u001b[49m\n\u001b[1;32m    311\u001b[0m \u001b[43m        \u001b[49m\u001b[43mweights\u001b[49m\u001b[38;5;241;43m=\u001b[39;49m\u001b[43mmodel\u001b[49m\u001b[43m \u001b[49m\u001b[38;5;129;43;01mor\u001b[39;49;00m\u001b[43m \u001b[49m\u001b[38;5;28;43mself\u001b[39;49m\u001b[38;5;241;43m.\u001b[39;49m\u001b[43margs\u001b[49m\u001b[38;5;241;43m.\u001b[39;49m\u001b[43mmodel\u001b[49m\u001b[43m,\u001b[49m\n\u001b[1;32m    312\u001b[0m \u001b[43m        \u001b[49m\u001b[43mdevice\u001b[49m\u001b[38;5;241;43m=\u001b[39;49m\u001b[43mselect_device\u001b[49m\u001b[43m(\u001b[49m\u001b[38;5;28;43mself\u001b[39;49m\u001b[38;5;241;43m.\u001b[39;49m\u001b[43margs\u001b[49m\u001b[38;5;241;43m.\u001b[39;49m\u001b[43mdevice\u001b[49m\u001b[43m,\u001b[49m\u001b[43m \u001b[49m\u001b[43mverbose\u001b[49m\u001b[38;5;241;43m=\u001b[39;49m\u001b[43mverbose\u001b[49m\u001b[43m)\u001b[49m\u001b[43m,\u001b[49m\n\u001b[1;32m    313\u001b[0m \u001b[43m        \u001b[49m\u001b[43mdnn\u001b[49m\u001b[38;5;241;43m=\u001b[39;49m\u001b[38;5;28;43mself\u001b[39;49m\u001b[38;5;241;43m.\u001b[39;49m\u001b[43margs\u001b[49m\u001b[38;5;241;43m.\u001b[39;49m\u001b[43mdnn\u001b[49m\u001b[43m,\u001b[49m\n\u001b[1;32m    314\u001b[0m \u001b[43m        \u001b[49m\u001b[43mdata\u001b[49m\u001b[38;5;241;43m=\u001b[39;49m\u001b[38;5;28;43mself\u001b[39;49m\u001b[38;5;241;43m.\u001b[39;49m\u001b[43margs\u001b[49m\u001b[38;5;241;43m.\u001b[39;49m\u001b[43mdata\u001b[49m\u001b[43m,\u001b[49m\n\u001b[1;32m    315\u001b[0m \u001b[43m        \u001b[49m\u001b[43mfp16\u001b[49m\u001b[38;5;241;43m=\u001b[39;49m\u001b[38;5;28;43mself\u001b[39;49m\u001b[38;5;241;43m.\u001b[39;49m\u001b[43margs\u001b[49m\u001b[38;5;241;43m.\u001b[39;49m\u001b[43mhalf\u001b[49m\u001b[43m,\u001b[49m\n\u001b[1;32m    316\u001b[0m \u001b[43m        \u001b[49m\u001b[43mbatch\u001b[49m\u001b[38;5;241;43m=\u001b[39;49m\u001b[38;5;28;43mself\u001b[39;49m\u001b[38;5;241;43m.\u001b[39;49m\u001b[43margs\u001b[49m\u001b[38;5;241;43m.\u001b[39;49m\u001b[43mbatch\u001b[49m\u001b[43m,\u001b[49m\n\u001b[1;32m    317\u001b[0m \u001b[43m        \u001b[49m\u001b[43mfuse\u001b[49m\u001b[38;5;241;43m=\u001b[39;49m\u001b[38;5;28;43;01mTrue\u001b[39;49;00m\u001b[43m,\u001b[49m\n\u001b[1;32m    318\u001b[0m \u001b[43m        \u001b[49m\u001b[43mverbose\u001b[49m\u001b[38;5;241;43m=\u001b[39;49m\u001b[43mverbose\u001b[49m\u001b[43m,\u001b[49m\n\u001b[1;32m    319\u001b[0m \u001b[43m    \u001b[49m\u001b[43m)\u001b[49m\n\u001b[1;32m    321\u001b[0m     \u001b[38;5;28mself\u001b[39m\u001b[38;5;241m.\u001b[39mdevice \u001b[38;5;241m=\u001b[39m \u001b[38;5;28mself\u001b[39m\u001b[38;5;241m.\u001b[39mmodel\u001b[38;5;241m.\u001b[39mdevice  \u001b[38;5;66;03m# update device\u001b[39;00m\n\u001b[1;32m    322\u001b[0m     \u001b[38;5;28mself\u001b[39m\u001b[38;5;241m.\u001b[39margs\u001b[38;5;241m.\u001b[39mhalf \u001b[38;5;241m=\u001b[39m \u001b[38;5;28mself\u001b[39m\u001b[38;5;241m.\u001b[39mmodel\u001b[38;5;241m.\u001b[39mfp16  \u001b[38;5;66;03m# update half\u001b[39;00m\n",
      "File \u001b[0;32m/opt/conda/lib/python3.11/site-packages/torch/utils/_contextlib.py:116\u001b[0m, in \u001b[0;36mcontext_decorator.<locals>.decorate_context\u001b[0;34m(*args, **kwargs)\u001b[0m\n\u001b[1;32m    113\u001b[0m \u001b[38;5;129m@functools\u001b[39m\u001b[38;5;241m.\u001b[39mwraps(func)\n\u001b[1;32m    114\u001b[0m \u001b[38;5;28;01mdef\u001b[39;00m \u001b[38;5;21mdecorate_context\u001b[39m(\u001b[38;5;241m*\u001b[39margs, \u001b[38;5;241m*\u001b[39m\u001b[38;5;241m*\u001b[39mkwargs):\n\u001b[1;32m    115\u001b[0m     \u001b[38;5;28;01mwith\u001b[39;00m ctx_factory():\n\u001b[0;32m--> 116\u001b[0m         \u001b[38;5;28;01mreturn\u001b[39;00m \u001b[43mfunc\u001b[49m\u001b[43m(\u001b[49m\u001b[38;5;241;43m*\u001b[39;49m\u001b[43margs\u001b[49m\u001b[43m,\u001b[49m\u001b[43m \u001b[49m\u001b[38;5;241;43m*\u001b[39;49m\u001b[38;5;241;43m*\u001b[39;49m\u001b[43mkwargs\u001b[49m\u001b[43m)\u001b[49m\n",
      "File \u001b[0;32m/opt/conda/lib/python3.11/site-packages/ultralytics/nn/autobackend.py:475\u001b[0m, in \u001b[0;36mAutoBackend.__init__\u001b[0;34m(self, weights, device, dnn, data, fp16, batch, fuse, verbose)\u001b[0m\n\u001b[1;32m    472\u001b[0m     check_requirements(\u001b[38;5;124m\"\u001b[39m\u001b[38;5;124mtritonclient[all]\u001b[39m\u001b[38;5;124m\"\u001b[39m)\n\u001b[1;32m    473\u001b[0m     \u001b[38;5;28;01mfrom\u001b[39;00m \u001b[38;5;21;01multralytics\u001b[39;00m\u001b[38;5;21;01m.\u001b[39;00m\u001b[38;5;21;01mutils\u001b[39;00m\u001b[38;5;21;01m.\u001b[39;00m\u001b[38;5;21;01mtriton\u001b[39;00m \u001b[38;5;28;01mimport\u001b[39;00m TritonRemoteModel\n\u001b[0;32m--> 475\u001b[0m     model \u001b[38;5;241m=\u001b[39m \u001b[43mTritonRemoteModel\u001b[49m\u001b[43m(\u001b[49m\u001b[43mw\u001b[49m\u001b[43m)\u001b[49m\n\u001b[1;32m    476\u001b[0m     metadata \u001b[38;5;241m=\u001b[39m model\u001b[38;5;241m.\u001b[39mmetadata\n\u001b[1;32m    478\u001b[0m \u001b[38;5;66;03m# RKNN\u001b[39;00m\n",
      "File \u001b[0;32m/opt/conda/lib/python3.11/site-packages/ultralytics/utils/triton.py:51\u001b[0m, in \u001b[0;36mTritonRemoteModel.__init__\u001b[0;34m(self, url, endpoint, scheme, ssl)\u001b[0m\n\u001b[1;32m     48\u001b[0m             \u001b[38;5;28;01mimport\u001b[39;00m \u001b[38;5;21;01mtritonclient\u001b[39;00m\u001b[38;5;21;01m.\u001b[39;00m\u001b[38;5;21;01mhttp\u001b[39;00m \u001b[38;5;28;01mas\u001b[39;00m \u001b[38;5;21;01mclient\u001b[39;00m  \u001b[38;5;66;03m# noqa\u001b[39;00m\n\u001b[1;32m     50\u001b[0m             \u001b[38;5;28mself\u001b[39m\u001b[38;5;241m.\u001b[39mtriton_client \u001b[38;5;241m=\u001b[39m client\u001b[38;5;241m.\u001b[39mInferenceServerClient(url\u001b[38;5;241m=\u001b[39m\u001b[38;5;28mself\u001b[39m\u001b[38;5;241m.\u001b[39murl, verbose\u001b[38;5;241m=\u001b[39m\u001b[38;5;28;01mFalse\u001b[39;00m, ssl\u001b[38;5;241m=\u001b[39m\u001b[38;5;28;01mFalse\u001b[39;00m)\n\u001b[0;32m---> 51\u001b[0m             config \u001b[38;5;241m=\u001b[39m \u001b[38;5;28;43mself\u001b[39;49m\u001b[38;5;241;43m.\u001b[39;49m\u001b[43mtriton_client\u001b[49m\u001b[38;5;241;43m.\u001b[39;49m\u001b[43mget_model_config\u001b[49m\u001b[43m(\u001b[49m\u001b[43mendpoint\u001b[49m\u001b[43m)\u001b[49m\n\u001b[1;32m     52\u001b[0m \u001b[38;5;66;03m#        elif scheme == \"https\":\u001b[39;00m\n\u001b[1;32m     53\u001b[0m \u001b[38;5;66;03m#            import tritonclient.http as client  # noqa\u001b[39;00m\n\u001b[1;32m     54\u001b[0m \u001b[38;5;66;03m#\u001b[39;00m\n\u001b[0;32m   (...)\u001b[0m\n\u001b[1;32m     58\u001b[0m \u001b[38;5;66;03m#            config = self.triton_client.get_model_config(endpoint,headers=headers)\u001b[39;00m\n\u001b[1;32m     59\u001b[0m         \u001b[38;5;28;01melse\u001b[39;00m:\n\u001b[1;32m     60\u001b[0m             \u001b[38;5;28;01mimport\u001b[39;00m \u001b[38;5;21;01mtritonclient\u001b[39;00m\u001b[38;5;21;01m.\u001b[39;00m\u001b[38;5;21;01mgrpc\u001b[39;00m \u001b[38;5;28;01mas\u001b[39;00m \u001b[38;5;21;01mclient\u001b[39;00m  \u001b[38;5;66;03m# noqa\u001b[39;00m\n",
      "File \u001b[0;32m/opt/conda/lib/python3.11/site-packages/tritonclient/http/_client.py:576\u001b[0m, in \u001b[0;36mInferenceServerClient.get_model_config\u001b[0;34m(self, model_name, model_version, headers, query_params)\u001b[0m\n\u001b[1;32m    571\u001b[0m     request_uri \u001b[38;5;241m=\u001b[39m \u001b[38;5;124m\"\u001b[39m\u001b[38;5;124mv2/models/\u001b[39m\u001b[38;5;132;01m{}\u001b[39;00m\u001b[38;5;124m/config\u001b[39m\u001b[38;5;124m\"\u001b[39m\u001b[38;5;241m.\u001b[39mformat(quote(model_name))\n\u001b[1;32m    573\u001b[0m response \u001b[38;5;241m=\u001b[39m \u001b[38;5;28mself\u001b[39m\u001b[38;5;241m.\u001b[39m_get(\n\u001b[1;32m    574\u001b[0m     request_uri\u001b[38;5;241m=\u001b[39mrequest_uri, headers\u001b[38;5;241m=\u001b[39mheaders, query_params\u001b[38;5;241m=\u001b[39mquery_params\n\u001b[1;32m    575\u001b[0m )\n\u001b[0;32m--> 576\u001b[0m \u001b[43m_raise_if_error\u001b[49m\u001b[43m(\u001b[49m\u001b[43mresponse\u001b[49m\u001b[43m)\u001b[49m\n\u001b[1;32m    578\u001b[0m content \u001b[38;5;241m=\u001b[39m response\u001b[38;5;241m.\u001b[39mread()\n\u001b[1;32m    579\u001b[0m \u001b[38;5;28;01mif\u001b[39;00m \u001b[38;5;28mself\u001b[39m\u001b[38;5;241m.\u001b[39m_verbose:\n",
      "File \u001b[0;32m/opt/conda/lib/python3.11/site-packages/tritonclient/http/_utils.py:69\u001b[0m, in \u001b[0;36m_raise_if_error\u001b[0;34m(response)\u001b[0m\n\u001b[1;32m     67\u001b[0m error \u001b[38;5;241m=\u001b[39m _get_error(response)\n\u001b[1;32m     68\u001b[0m \u001b[38;5;28;01mif\u001b[39;00m error \u001b[38;5;129;01mis\u001b[39;00m \u001b[38;5;129;01mnot\u001b[39;00m \u001b[38;5;28;01mNone\u001b[39;00m:\n\u001b[0;32m---> 69\u001b[0m     \u001b[38;5;28;01mraise\u001b[39;00m error\n",
      "\u001b[0;31mInferenceServerException\u001b[0m: [403] an exception occurred in the client while decoding the response: Parse error at offset 0: Invalid value."
     ]
    }
   ],
   "source": [
    "results = crop_vehicle_license_then_read(input_image)"
   ]
  },
  {
   "cell_type": "code",
   "execution_count": null,
   "id": "9a93ff7b-0a34-4044-8f5a-da378ffc7bd0",
   "metadata": {
    "scrolled": true
   },
   "outputs": [],
   "source": [
    "results"
   ]
  },
  {
   "cell_type": "code",
   "execution_count": null,
   "id": "0c5e43d9-5770-4a83-b336-450a31f9ebce",
   "metadata": {},
   "outputs": [],
   "source": [
    "for object in range(len(results)):\n",
    "    # Draw vehicle bounding box\n",
    "    vhcl_x1, vhcl_y1, vhcl_x2, vhcl_y2 = results[object]['vehicle_bbox']\n",
    "    cv.rectangle(input_image, (int(vhcl_x1), int(vhcl_y1)),(int(vhcl_x2), int(vhcl_y2)), (0, 255, 0), 8)\n",
    "    # Draw plate bounding box\n",
    "    plate_x1, plate_y1, plate_x2, plate_y2 = results[object]['lp_bbox']\n",
    "    roi = input_image[int(vhcl_y1):int(vhcl_y2), int(vhcl_x1):int(vhcl_x2)]\n",
    "    cv.rectangle(roi, (int(plate_x1), int(plate_y1)), (int(plate_x2), int(plate_y2)), (0, 0, 255), 6)\n",
    "\n",
    "    # write detected number\n",
    "    (text_width, text_height), _ = cv.getTextSize(results[object][\"lp_number\"],cv.FONT_HERSHEY_DUPLEX,2,6)\n",
    "    cv.putText(\n",
    "            roi,\n",
    "            results[object][\"lp_number\"],\n",
    "            (int((plate_x2 + plate_x1 - text_width)/2), int(plate_y1 - text_height)),\n",
    "            cv.FONT_HERSHEY_DUPLEX,\n",
    "            2,\n",
    "            (0, 255, 0),\n",
    "            6\n",
    "        )\n",
    "\n",
    "rgb_result = cv.cvtColor(input_image, cv.COLOR_BGR2RGB)"
   ]
  },
  {
   "cell_type": "code",
   "execution_count": null,
   "id": "95d50ec3-d5b3-4cdd-b459-dc410e573d25",
   "metadata": {},
   "outputs": [],
   "source": [
    "import matplotlib.pyplot as plt\n",
    "\n",
    "plt.imshow(rgb_result)\n",
    "\n",
    "plt.show()"
   ]
  },
  {
   "cell_type": "code",
   "execution_count": null,
   "id": "47431a6d-7795-4146-a378-c3e74753ef3c",
   "metadata": {},
   "outputs": [],
   "source": [
    "reset_tracker()"
   ]
  },
  {
   "cell_type": "code",
   "execution_count": null,
   "id": "384662df-70d6-4743-82f7-8217256cba30",
   "metadata": {},
   "outputs": [],
   "source": [
    "video_path = 'Samples/sample.mp4'\n",
    "cap = cv.VideoCapture(video_path)\n",
    "fps = cap.get(cv.CAP_PROP_FPS)\n",
    "frame_num = -1"
   ]
  },
  {
   "cell_type": "code",
   "execution_count": null,
   "id": "5bf6d9ff-1938-4cad-832f-93758c8e8ea6",
   "metadata": {},
   "outputs": [],
   "source": [
    "cap.set(cv.CAP_PROP_POS_FRAMES,0)\n",
    "cap.get(cv.CAP_PROP_POS_FRAMES)"
   ]
  },
  {
   "cell_type": "code",
   "execution_count": null,
   "id": "9d744a33-b650-4f36-a517-f48a354d7301",
   "metadata": {
    "scrolled": true
   },
   "outputs": [],
   "source": [
    "aggregated_result = []\n",
    "\n",
    "while cap.isOpened():\n",
    "    ret, frame = cap.read()\n",
    "    ### limit 10 frame for test purpose\n",
    "    if not ret or frame_num > 10:\n",
    "    # if not ret :\n",
    "        break\n",
    "    \n",
    "    frame_num += 1\n",
    "    # Process frame - detect license plates\n",
    "    detection_results = crop_vehicle_license_then_read(input_image=frame,vehicle_conf=0.5,license_conf=0.5,frame_number=frame_num)\n",
    "    aggregated_result.extend(detection_results)\n",
    "    # # Convert frame to bytes and send\n"
   ]
  },
  {
   "cell_type": "code",
   "execution_count": null,
   "id": "3547e882-ce9c-4803-897b-f864b34220fd",
   "metadata": {},
   "outputs": [],
   "source": [
    "import pandas as pd"
   ]
  },
  {
   "cell_type": "code",
   "execution_count": null,
   "id": "3d7ffa37-a411-4c8d-bd0c-f7402ec9096b",
   "metadata": {},
   "outputs": [],
   "source": [
    "results_df = pd.DataFrame(aggregated_result)"
   ]
  },
  {
   "cell_type": "code",
   "execution_count": null,
   "id": "407c4609-c3a4-4dee-9a20-1531a7f110b0",
   "metadata": {
    "scrolled": true
   },
   "outputs": [],
   "source": [
    "results_df"
   ]
  },
  {
   "cell_type": "code",
   "execution_count": null,
   "id": "4a9701d9-501b-4855-89c9-6c939ffbebc7",
   "metadata": {},
   "outputs": [],
   "source": [
    "cap.set(cv.CAP_PROP_POS_FRAMES,0)\n",
    "cap.get(cv.CAP_PROP_POS_FRAMES)\n",
    "frame_num = -1"
   ]
  },
  {
   "cell_type": "code",
   "execution_count": null,
   "id": "893a2f53-211d-4fc3-aa06-e090e5046e27",
   "metadata": {
    "scrolled": true
   },
   "outputs": [],
   "source": [
    "while cap.isOpened():\n",
    "    frame_num += 1\n",
    "    ret, frame = cap.read()\n",
    "    ### limit 10 frame for test purpose\n",
    "    if not ret or frame_num > 10:\n",
    "    # if not ret :\n",
    "        break\n",
    "    df_ = results_df[results_df['frame_number'] == frame_num]\n",
    "    for index in range(len(df_)):\n",
    "        # draw vehicle\n",
    "        # if str(df_.iloc[index]['lp_number']) != 'nan':\n",
    "            print(df_.iloc[index]['lp_number'])\n",
    "            vhcl_x1, vhcl_y1, vhcl_x2, vhcl_y2 = df_.iloc[index]['vehicle_bbox']\n",
    "            \n",
    "            # draw_border(frame, (int(vhcl_x1), int(vhcl_y1)),(int(vhcl_x2), int(vhcl_y2)), (0, 255, 0),12, line_length_x=200, line_length_y=200)\n",
    "            cv.rectangle(frame, (int(vhcl_x1), int(vhcl_y1)),(int(vhcl_x2), int(vhcl_y2)), (0, 255, 0), 8)\n",
    "            # draw license plate\n",
    "            plate_x1, plate_y1, plate_x2, plate_y2 = df_.iloc[index]['lp_bbox']\n",
    "\n",
    "            # region of interest\n",
    "            roi = frame[int(vhcl_y1):int(vhcl_y2), int(vhcl_x1):int(vhcl_x2)]\n",
    "            cv.rectangle(roi, (int(plate_x1), int(plate_y1)), (int(plate_x2), int(plate_y2)), (0, 0, 255), 6)\n",
    "\n",
    "            # write detected number\n",
    "            # (text_width, text_height), _ = cv.getTextSize(str(df_.iloc[index]['lp_number']),cv.FONT_HERSHEY_SIMPLEX,2,6)\n",
    "\n",
    "            # cv.putText(frame,str(df_.iloc[index]['lp_number']),(int((vhcl_x2 + vhcl_x1 - text_width)/2), int(vhcl_y1 - text_height)),cv.FONT_HERSHEY_SIMPLEX,2,(0, 255, 0),6)\n",
    "            \n",
    "            (text_width, text_height), _ = cv.getTextSize(str(df_.iloc[index]['lp_number']),cv.FONT_HERSHEY_DUPLEX,2,6)\n",
    "            cv.putText(\n",
    "                    roi,\n",
    "                    str(df_.iloc[index]['lp_number']),\n",
    "                    (int((plate_x2 + plate_x1 - text_width)/2), int(plate_y1 - text_height)),\n",
    "                    cv.FONT_HERSHEY_DUPLEX,\n",
    "                    2,\n",
    "                    (0, 255, 0),\n",
    "                    6\n",
    "                )\n",
    "    rgb_result = cv.cvtColor(frame, cv.COLOR_BGR2RGB)\n",
    "    plt.imshow(rgb_result)\n",
    "    plt.show()"
   ]
  },
  {
   "cell_type": "code",
   "execution_count": null,
   "id": "e4dc071f-a19f-4880-87b5-778274bdb5d6",
   "metadata": {},
   "outputs": [],
   "source": []
  }
 ],
 "metadata": {
  "kernelspec": {
   "display_name": "Python 3 (ipykernel)",
   "language": "python",
   "name": "python3"
  },
  "language_info": {
   "codemirror_mode": {
    "name": "ipython",
    "version": 3
   },
   "file_extension": ".py",
   "mimetype": "text/x-python",
   "name": "python",
   "nbconvert_exporter": "python",
   "pygments_lexer": "ipython3",
   "version": "3.11.9"
  }
 },
 "nbformat": 4,
 "nbformat_minor": 5
}
