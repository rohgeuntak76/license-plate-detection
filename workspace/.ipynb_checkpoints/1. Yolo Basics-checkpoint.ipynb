{
 "cells": [
  {
   "cell_type": "code",
   "execution_count": 1,
   "id": "3f726670-7b60-460d-b35d-38be71046c73",
   "metadata": {},
   "outputs": [
    {
     "name": "stdout",
     "output_type": "stream",
     "text": [
      "Creating new Ultralytics Settings v0.0.6 file ✅ \n",
      "View Ultralytics Settings with 'yolo settings' or at '/home/geun-tak.roh-hpe.com/.config/Ultralytics/settings.json'\n",
      "Update Settings with 'yolo settings key=value', i.e. 'yolo settings runs_dir=path/to/dir'. For help see https://docs.ultralytics.com/quickstart/#ultralytics-settings.\n"
     ]
    }
   ],
   "source": [
    "from ultralytics import YOLO"
   ]
  },
  {
   "cell_type": "code",
   "execution_count": 2,
   "id": "4bac1213-a783-4c2e-b2f1-41faa67e11e3",
   "metadata": {},
   "outputs": [
    {
     "name": "stdout",
     "output_type": "stream",
     "text": [
      "Downloading https://github.com/ultralytics/assets/releases/download/v8.3.0/yolo11s.pt to 'yolo11s.pt'...\n"
     ]
    },
    {
     "name": "stderr",
     "output_type": "stream",
     "text": [
      "100%|██████████| 18.4M/18.4M [00:00<00:00, 21.9MB/s]\n"
     ]
    }
   ],
   "source": [
    "model = YOLO(\"yolo11s\")"
   ]
  },
  {
   "cell_type": "code",
   "execution_count": 7,
   "id": "f7e0882e-247d-4bc4-91fd-22cd5267fee3",
   "metadata": {},
   "outputs": [
    {
     "name": "stdout",
     "output_type": "stream",
     "text": [
      "\n",
      "image 1/1 /mnt/user/license_detection/finetune/Samples/car_image.jpg: 640x640 3 cars, 6.1ms\n",
      "Speed: 1.7ms preprocess, 6.1ms inference, 1.1ms postprocess per image at shape (1, 3, 640, 640)\n",
      "Results saved to \u001b[1mruns/detect/predict\u001b[0m\n"
     ]
    }
   ],
   "source": [
    "results = model(\"./Samples/car_image.jpg\",save=True)"
   ]
  },
  {
   "cell_type": "code",
   "execution_count": 19,
   "id": "a44fc913-bf22-4417-b9c5-269bbd7fbc3c",
   "metadata": {},
   "outputs": [],
   "source": [
    "import cv2 as cv\n",
    "import matplotlib.pyplot as plt"
   ]
  },
  {
   "cell_type": "code",
   "execution_count": 22,
   "id": "39745803-ffb9-44b4-803f-070826360b90",
   "metadata": {},
   "outputs": [
    {
     "ename": "NameError",
     "evalue": "name 'cv2' is not defined",
     "output_type": "error",
     "traceback": [
      "\u001b[0;31m---------------------------------------------------------------------------\u001b[0m",
      "\u001b[0;31mNameError\u001b[0m                                 Traceback (most recent call last)",
      "Cell \u001b[0;32mIn[22], line 1\u001b[0m\n\u001b[0;32m----> 1\u001b[0m cv\u001b[38;5;241m.\u001b[39mcvtColor(results[\u001b[38;5;241m0\u001b[39m]\u001b[38;5;241m.\u001b[39mplot(), \u001b[43mcv2\u001b[49m\u001b[38;5;241m.\u001b[39mCOLOR_BGR2RGB)\n\u001b[1;32m      2\u001b[0m plt\u001b[38;5;241m.\u001b[39mimshow(cv\u001b[38;5;241m.\u001b[39mcvtColor(results[\u001b[38;5;241m0\u001b[39m]\u001b[38;5;241m.\u001b[39mplot(), cv2\u001b[38;5;241m.\u001b[39mCOLOR_BGR2RGB))\n\u001b[1;32m      4\u001b[0m plt\u001b[38;5;241m.\u001b[39mshow()\n",
      "\u001b[0;31mNameError\u001b[0m: name 'cv2' is not defined"
     ]
    }
   ],
   "source": [
    "# cv.cvtColor(results[0].plot(), cv2.COLOR_BGR2RGB)\n",
    "plt.imshow(cv.cvtColor(results[0].plot(), cv2.COLOR_BGR2RGB))\n",
    "\n",
    "plt.show()"
   ]
  },
  {
   "cell_type": "code",
   "execution_count": 14,
   "id": "09751ede-6c73-4c0d-aade-6c494550487d",
   "metadata": {},
   "outputs": [
    {
     "data": {
      "text/html": [
       "<div>\n",
       "<style scoped>\n",
       "    .dataframe tbody tr th:only-of-type {\n",
       "        vertical-align: middle;\n",
       "    }\n",
       "\n",
       "    .dataframe tbody tr th {\n",
       "        vertical-align: top;\n",
       "    }\n",
       "\n",
       "    .dataframe thead th {\n",
       "        text-align: right;\n",
       "    }\n",
       "</style>\n",
       "<table border=\"1\" class=\"dataframe\">\n",
       "  <thead>\n",
       "    <tr style=\"text-align: right;\">\n",
       "      <th></th>\n",
       "      <th>name</th>\n",
       "      <th>class</th>\n",
       "      <th>confidence</th>\n",
       "      <th>box</th>\n",
       "    </tr>\n",
       "  </thead>\n",
       "  <tbody>\n",
       "    <tr>\n",
       "      <th>0</th>\n",
       "      <td>car</td>\n",
       "      <td>2</td>\n",
       "      <td>0.87968</td>\n",
       "      <td>{'x1': 64.94159, 'y1': 12.29492, 'x2': 566.043...</td>\n",
       "    </tr>\n",
       "    <tr>\n",
       "      <th>1</th>\n",
       "      <td>car</td>\n",
       "      <td>2</td>\n",
       "      <td>0.82153</td>\n",
       "      <td>{'x1': 39.55981, 'y1': 44.25354, 'x2': 109.333...</td>\n",
       "    </tr>\n",
       "    <tr>\n",
       "      <th>2</th>\n",
       "      <td>car</td>\n",
       "      <td>2</td>\n",
       "      <td>0.39944</td>\n",
       "      <td>{'x1': 32.69421, 'y1': 33.57063, 'x2': 70.3216...</td>\n",
       "    </tr>\n",
       "  </tbody>\n",
       "</table>\n",
       "</div>"
      ],
      "text/plain": [
       "  name  class  confidence                                                box\n",
       "0  car      2     0.87968  {'x1': 64.94159, 'y1': 12.29492, 'x2': 566.043...\n",
       "1  car      2     0.82153  {'x1': 39.55981, 'y1': 44.25354, 'x2': 109.333...\n",
       "2  car      2     0.39944  {'x1': 32.69421, 'y1': 33.57063, 'x2': 70.3216..."
      ]
     },
     "execution_count": 14,
     "metadata": {},
     "output_type": "execute_result"
    }
   ],
   "source": [
    "results[0].to_df()"
   ]
  },
  {
   "cell_type": "code",
   "execution_count": 17,
   "id": "5e63561a-33f3-4610-b802-9d71c073a47e",
   "metadata": {},
   "outputs": [
    {
     "data": {
      "text/plain": [
       "'[\\n  {\\n    \"name\":\"car\",\\n    \"class\":2,\\n    \"confidence\":0.87968,\\n    \"box\":{\\n      \"x1\":64.94159,\\n      \"y1\":12.29492,\\n      \"x2\":566.04382,\\n      \"y2\":565.40991\\n    }\\n  },\\n  {\\n    \"name\":\"car\",\\n    \"class\":2,\\n    \"confidence\":0.82153,\\n    \"box\":{\\n      \"x1\":39.55981,\\n      \"y1\":44.25354,\\n      \"x2\":109.33311,\\n      \"y2\":192.04379\\n    }\\n  },\\n  {\\n    \"name\":\"car\",\\n    \"class\":2,\\n    \"confidence\":0.39944,\\n    \"box\":{\\n      \"x1\":32.69421,\\n      \"y1\":33.57063,\\n      \"x2\":70.32161,\\n      \"y2\":90.67825\\n    }\\n  }\\n]'"
      ]
     },
     "execution_count": 17,
     "metadata": {},
     "output_type": "execute_result"
    }
   ],
   "source": [
    "results[0].to_json()"
   ]
  },
  {
   "cell_type": "code",
   "execution_count": null,
   "id": "82cb1146-4d37-4db6-814a-8178be5585c3",
   "metadata": {},
   "outputs": [],
   "source": []
  }
 ],
 "metadata": {
  "kernelspec": {
   "display_name": "Python 3 (ipykernel)",
   "language": "python",
   "name": "python3"
  },
  "language_info": {
   "codemirror_mode": {
    "name": "ipython",
    "version": 3
   },
   "file_extension": ".py",
   "mimetype": "text/x-python",
   "name": "python",
   "nbconvert_exporter": "python",
   "pygments_lexer": "ipython3",
   "version": "3.11.9"
  }
 },
 "nbformat": 4,
 "nbformat_minor": 5
}
