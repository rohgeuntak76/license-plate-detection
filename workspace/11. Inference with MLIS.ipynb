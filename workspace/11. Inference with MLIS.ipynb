{
 "cells": [
  {
   "cell_type": "raw",
   "id": "07697050-01bd-4f73-b278-82af0b713f7b",
   "metadata": {},
   "source": [
    "(base) geun-tak.roh-hpe.com@triton-kserve-test-0:/opt/conda/lib/python3.11/site-packages/ultralytics/utils$ diff triton.py triton.py_org \n",
    "25c25\n",
    "<     def __init__(self, url: str, endpoint: str = \"\", scheme: str = \"\", ssl: bool = False):\n",
    "---\n",
    ">     def __init__(self, url: str, endpoint: str = \"\", scheme: str = \"\"):\n",
    "45,46c45\n",
    "<         self.token = os.environ[\"AUTH_TOKEN\"]\n",
    "<         self.headers = {\"Authorization\": \"Bearer \" + token}\n",
    "---\n",
    "> \n",
    "52c51\n",
    "<             config = self.triton_client.get_model_config(endpoint,headers=self.headers)\n",
    "---\n",
    ">             config = self.triton_client.get_model_config(endpoint)\n",
    "92c91\n",
    "<         outputs = self.triton_client.infer(model_name=self.endpoint, inputs=infer_inputs, outputs=infer_outputs, headers=self.headers)\n",
    "---\n",
    ">         outputs = self.triton_client.infer(model_name=self.endpoint, inputs=infer_inputs, outputs=infer_outputs)"
   ]
  },
  {
   "cell_type": "code",
   "execution_count": 1,
   "id": "b3761e33-fbfb-4c67-8d1d-7d4152459995",
   "metadata": {},
   "outputs": [],
   "source": [
    "MLIS_URL = \"https://triton-test-predictor-geun-tak-roh-hp-57f69d47.ingress.pcai0103.sy6.hpecolo.net\""
   ]
  },
  {
   "cell_type": "code",
   "execution_count": 2,
   "id": "15e2db3f-37b8-4355-885f-d2824732337f",
   "metadata": {},
   "outputs": [],
   "source": [
    "from urllib.parse import urlparse\n",
    "\n",
    "def convert_kserve_url_to_triton_url(mlis_url):\n",
    "    parts = urlparse(mlis_url)\n",
    "    split = parts.netloc.split('.')[0]\n",
    "    svc_name, namespace = split.split('-predictor-')\n",
    "    url_for_yolo = f\"http://{svc_name}-predictor.{namespace}.svc.cluster.local\"\n",
    "    return url_for_yolo"
   ]
  },
  {
   "cell_type": "code",
   "execution_count": 3,
   "id": "83da0ab3-46c4-419f-a710-9464d9e32db0",
   "metadata": {},
   "outputs": [
    {
     "name": "stdout",
     "output_type": "stream",
     "text": [
      "http://triton-test-predictor.geun-tak-roh-hp-57f69d47.svc.cluster.local\n"
     ]
    }
   ],
   "source": [
    "from ultralytics import YOLO\n",
    "\n",
    "url_for_yolo =  convert_kserve_url_to_triton_url(MLIS_URL)\n",
    "print(url_for_yolo)"
   ]
  },
  {
   "cell_type": "code",
   "execution_count": 4,
   "id": "fa54785e-87d6-411e-97b6-221eda7b079b",
   "metadata": {},
   "outputs": [],
   "source": [
    "\n",
    "vehicle_detector = YOLO(url_for_yolo + \"/vehicle_detector\",task='detect')\n",
    "\n",
    "internal_service_with_istio = YOLO(\"http://triton-test-predictor-00001-private.geun-tak-roh-hp-57f69d47.svc.cluster.local/vehicle_detector\",task='detect')\n",
    "\n",
    "internal_service_no_istio = YOLO(\"http://license-plate-detector-engines-predictor-00001-private.default.svc.cluster.local/vehicle_detector\",task='detect')"
   ]
  },
  {
   "cell_type": "code",
   "execution_count": 6,
   "id": "be150503-3b90-42bf-a5ac-711e53e2f095",
   "metadata": {},
   "outputs": [
    {
     "name": "stdout",
     "output_type": "stream",
     "text": [
      "No istio + internal Svc url\n",
      "\n",
      "image 1/1 /mnt/user/LPD/finetune/Samples/car_image.jpg: 640x640 3 cars, 15.6ms\n",
      "Speed: 1.3ms preprocess, 15.6ms inference, 0.7ms postprocess per image at shape (1, 3, 640, 640)\n",
      "with Istio + internal Svc url\n",
      "\n",
      "image 1/1 /mnt/user/LPD/finetune/Samples/car_image.jpg: 640x640 3 cars, 154.0ms\n",
      "Speed: 1.1ms preprocess, 154.0ms inference, 0.6ms postprocess per image at shape (1, 3, 640, 640)\n",
      "with Istio + external Svc url\n",
      "\n",
      "image 1/1 /mnt/user/LPD/finetune/Samples/car_image.jpg: 640x640 3 cars, 154.5ms\n",
      "Speed: 1.1ms preprocess, 154.5ms inference, 0.6ms postprocess per image at shape (1, 3, 640, 640)\n"
     ]
    }
   ],
   "source": [
    "print(\"No istio + internal Svc url\")\n",
    "results3 = internal_service_no_istio('Samples/car_image.jpg')\n",
    "print(\"with Istio + internal Svc url\")\n",
    "results2 = internal_service_with_istio('Samples/car_image.jpg')\n",
    "print(\"with Istio + external Svc url\")\n",
    "results1 = vehicle_detector('Samples/car_image.jpg')"
   ]
  },
  {
   "cell_type": "code",
   "execution_count": null,
   "id": "d4e090fc-be8f-454a-8d46-0ef602ab766b",
   "metadata": {},
   "outputs": [],
   "source": [
    "import cv2 as cv\n",
    "import matplotlib.pyplot as plt"
   ]
  },
  {
   "cell_type": "code",
   "execution_count": null,
   "id": "8fd0551a-1258-466b-8171-9991d77d71e9",
   "metadata": {},
   "outputs": [],
   "source": [
    "# cv.cvtColor(results[0].plot(), cv2.COLOR_BGR2RGB)\n",
    "rgb_img = cv.cvtColor(results[0].plot(), cv.COLOR_BGR2RGB)\n",
    "plt.imshow(rgb_img)\n",
    "\n",
    "plt.show()"
   ]
  },
  {
   "cell_type": "code",
   "execution_count": null,
   "id": "ea298d5a-a07f-47ce-be88-d36d3b80ed8c",
   "metadata": {},
   "outputs": [],
   "source": []
  },
  {
   "cell_type": "code",
   "execution_count": null,
   "id": "e88c3faf-c01e-4f04-a4d6-47ce8971b90b",
   "metadata": {},
   "outputs": [],
   "source": []
  }
 ],
 "metadata": {
  "kernelspec": {
   "display_name": "Python 3 (ipykernel)",
   "language": "python",
   "name": "python3"
  },
  "language_info": {
   "codemirror_mode": {
    "name": "ipython",
    "version": 3
   },
   "file_extension": ".py",
   "mimetype": "text/x-python",
   "name": "python",
   "nbconvert_exporter": "python",
   "pygments_lexer": "ipython3",
   "version": "3.11.9"
  }
 },
 "nbformat": 4,
 "nbformat_minor": 5
}
