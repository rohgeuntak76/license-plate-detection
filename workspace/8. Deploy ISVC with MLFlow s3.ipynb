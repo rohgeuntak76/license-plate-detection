{
 "cells": [
  {
   "cell_type": "code",
   "execution_count": 1,
   "id": "72bb8bd8-7d83-4d4c-9150-4e7c5a3e46ea",
   "metadata": {},
   "outputs": [
    {
     "name": "stdout",
     "output_type": "stream",
     "text": [
      "Token successfully refreshed.\n"
     ]
    }
   ],
   "source": [
    "%update_token"
   ]
  },
  {
   "cell_type": "code",
   "execution_count": 2,
   "id": "4569c12b-63e1-495c-93c8-ed845f6a6484",
   "metadata": {},
   "outputs": [],
   "source": [
    "from mlflow import MlflowClient\n",
    "client = MlflowClient()\n",
    "exp_id = client.get_experiment_by_name(\"license-detector\").experiment_id\n",
    "artifact_url = client.search_runs(exp_id,order_by=[\"start_time DESC\"])[0].info.artifact_uri + '/triton/triton_engines' # (e.g. mlflow.sy6s171r10/13/d7f6827cd28a4783abfe7866c9e06255/artifacts/triton/triton_engines )\n",
    "image_tag = \"nvcr.io/nvidia/tritonserver:25.02-py3\"\n",
    "isvc_name = \"license-plate-detector-engines\"\n",
    "secret_name = \"triton-s3-proxy\"\n",
    "service_account = \"s3-proxy-kserve-sa\"\n",
    "# local_s3_proxy_uri = \"http://local-s3-service.ezdata-system.svc.cluster.local:30000\"\n",
    "with open('/etc/secrets/ezua/.auth_token','r') as file:\n",
    "    AUTH_TOKEN = file.read().strip()"
   ]
  },
  {
   "cell_type": "code",
   "execution_count": 3,
   "id": "e4ee1a7f-380f-40ab-a5a2-dbf2c5d9fab8",
   "metadata": {},
   "outputs": [
    {
     "name": "stdout",
     "output_type": "stream",
     "text": [
      "s3://mlflow.sy6s171r10/16/3c729e661678484fa6048ca2dead4dfe/artifacts\n",
      "eyJhbGciOiJSUzI1NiIsInR5cCIgOiAiSldUIiwia2lkIiA6ICJneExEamtYbDBTTHNGWGp6TXFPQ3E4bjEzdmJ4RXhmeUM1M1lCOGVCRGdzIn0.eyJleHAiOjE3NDg1MDUzNzYsImlhdCI6MTc0ODUwMzU3NiwiYXV0aF90aW1lIjoxNzQ4Mzk2NDcxLCJqdGkiOiI1MDBjOWNkYS04YmYxLTQ1NzctOTdkNC1mMmNhMDFjNjNjMzMiLCJpc3MiOiJodHRwczovL2tleWNsb2FrLmluZ3Jlc3MucGNhaTAxMDMuc3k2LmhwZWNvbG8ubmV0L3JlYWxtcy9VQSIsInN1YiI6IjZlMDY0YTc0LTAyZmEtNGZjOC1iNTk0LThiYzgwMDE4MDQ4YSIsInR5cCI6IkJlYXJlciIsImF6cCI6InVhIiwibm9uY2UiOiJVMEVtQXNfRXFsV0stOHUyZ0FUeDRaMmJTVjNvTnc2ZVRxeUY2OXVic2hrIiwic2Vzc2lvbl9zdGF0ZSI6ImZjNDAyMTJhLTBjZDItNDZhMC1hZjJkLTFkZDY5ZmJiMWRkOCIsImFjciI6IjEiLCJzY29wZSI6Im9wZW5pZCBlbWFpbCBwcm9maWxlIG9mZmxpbmVfYWNjZXNzIHN5NnMxNzFyMTA6dWEiLCJzaWQiOiJmYzQwMjEyYS0wY2QyLTQ2YTAtYWYyZC0xZGQ2OWZiYjFkZDgiLCJ1aWQiOiIxMDAwMDAwOCIsImVtYWlsX3ZlcmlmaWVkIjpmYWxzZSwiZ2lkIjoiMTAwMSIsIm5hbWUiOiJHZXVuIFRhayBSb2giLCJuYW1lc3BhY2UiOiJnZXVuLXRhay1yb2gtaHAtNTdmNjlkNDciLCJncm91cHMiOlsidWEtZW5hYmxlZCIsIm9mZmxpbmVfYWNjZXNzIiwiYWRtaW4iLCJ1bWFfYXV0aG9yaXphdGlvbiIsImRlZmF1bHQtcm9sZXMtdWEiXSwicHJlZmVycmVkX3VzZXJuYW1lIjoiZ2V1bi10YWsucm9oLWhwZS5jb20iLCJnaXZlbl9uYW1lIjoiR2V1biBUYWsiLCJwb3NpeF91c2VybmFtZSI6ImdldW4tdGFrLnJvaC1ocGUuY29tIiwiZmFtaWx5X25hbWUiOiJSb2giLCJlbWFpbCI6ImdldW4tdGFrLnJvaEBocGUuY29tIn0.EkOhQRCWCG9EB8cJ5DMiWcDVcd61zxCLLVQgbB8LDLUY5_A6gQ3oOGNCHyaAOqnxFKxZcnr89Q_RevWRTe5OnRwWiYWhA8vD82xcKklkl5Hur5P6K6kgXX8PGhqSKis05j71y_ISeRepMWRKxS9QQ8UwbCgGYMa7Z3ToMDDxNEWWnBN7lF3GsnvpIM0Imn_7DZP4dQVCo8un0tFpe_1atRmXZ4nwGrLEo8ZVP1N-ijzcTTUEAlQoDiyDGeqJySUgKfd4isndRuv1_MAx89T3CRlUBZwA5WOqTrJ3_Vl8qvh4G9Rn6pH_XWMcqlSGuivxG-bajkhhJq7kv0FinPfVTA\n"
     ]
    }
   ],
   "source": [
    "print(artifact_url)\n",
    "print(AUTH_TOKEN)"
   ]
  },
  {
   "cell_type": "code",
   "execution_count": 4,
   "id": "b36f22c1-0cf7-4116-bbb5-4e411f70bee3",
   "metadata": {},
   "outputs": [],
   "source": [
    "with open(isvc_name + '.yaml', 'w') as file:\n",
    "    text = f\"\"\"---\n",
    "apiVersion: serving.kserve.io/v1alpha1\n",
    "kind: ServingRuntime\n",
    "metadata:\n",
    "  generation: 1\n",
    "  name: kserve-tritonserver-ngc\n",
    "spec:\n",
    "  annotations:\n",
    "    prometheus.kserve.io/path: /metrics\n",
    "    prometheus.kserve.io/port: \"8002\"\n",
    "  containers:\n",
    "  - args:\n",
    "    - tritonserver\n",
    "    - --model-store=/mnt/models\n",
    "    - --grpc-port=9000\n",
    "    - --http-port=8080\n",
    "    - --allow-grpc=true\n",
    "    - --allow-http=true\n",
    "    image: {image_tag}\n",
    "    name: kserve-container\n",
    "    resources:\n",
    "      limits:\n",
    "        cpu: \"1\"\n",
    "        memory: 2Gi\n",
    "      requests:\n",
    "        cpu: \"1\"\n",
    "        memory: 2Gi\n",
    "  protocolVersions:\n",
    "  - v2\n",
    "  - grpc-v2\n",
    "  supportedModelFormats:\n",
    "  - autoSelect: true\n",
    "    name: tensorrt\n",
    "    priority: 1\n",
    "    version: \"8\"\n",
    "  - autoSelect: true\n",
    "    name: tensorflow\n",
    "    priority: 1\n",
    "    version: \"1\"\n",
    "  - autoSelect: true\n",
    "    name: tensorflow\n",
    "    priority: 1\n",
    "    version: \"2\"\n",
    "  - autoSelect: true\n",
    "    name: onnx\n",
    "    priority: 1\n",
    "    version: \"1\"\n",
    "  - name: pytorch\n",
    "    version: \"1\"\n",
    "  - autoSelect: true\n",
    "    name: triton\n",
    "    priority: 1\n",
    "    version: \"2\"\n",
    "---\n",
    "apiVersion: v1\n",
    "kind: Secret\n",
    "metadata:\n",
    "  name: \"{secret_name}\"\n",
    "  annotations:\n",
    "    serving.kserve.io/s3-cabundle: \"\"\n",
    "    serving.kserve.io/s3-endpoint: \"local-s3-service.ezdata-system.svc.cluster.local:30000/\"\n",
    "    serving.kserve.io/s3-useanoncredential: \"false\"\n",
    "    serving.kserve.io/s3-usehttps: \"0\"\n",
    "    serving.kserve.io/s3-verifyssl: \"0\"\n",
    "stringData:\n",
    "  AWS_ACCESS_KEY_ID: \"{AUTH_TOKEN}\"\n",
    "  AWS_SECRET_ACCESS_KEY: \"s3\"\n",
    "type: Opaque\n",
    "---\n",
    "apiVersion: v1\n",
    "kind: ServiceAccount\n",
    "metadata:\n",
    "  name: \"{service_account}\"\n",
    "secrets:\n",
    "  - name: \"{secret_name}\"\n",
    "---\n",
    "apiVersion: serving.kserve.io/v1beta1\n",
    "kind: InferenceService\n",
    "metadata:\n",
    "  name: {isvc_name}\n",
    "spec:\n",
    "  predictor:\n",
    "    serviceAccountName: \"{service_account}\"\n",
    "    model:\n",
    "      modelFormat:\n",
    "        name: triton\n",
    "      storageUri: \"{artifact_url}\"\n",
    "      runtime: kserve-tritonserver-ngc\n",
    "      resources:\n",
    "        limits:\n",
    "          nvidia.com/gpu: 1\n",
    "        requests:\n",
    "          nvidia.com/gpu: 1\n",
    "\"\"\"\n",
    "    file.write(text)"
   ]
  },
  {
   "cell_type": "code",
   "execution_count": 5,
   "id": "867ebe06-f74f-4ce7-80a1-6b5b00f4c6cc",
   "metadata": {},
   "outputs": [
    {
     "name": "stdout",
     "output_type": "stream",
     "text": [
      "-rw-r--r--. 1 geun-tak.roh-hpe.com group-1001 3609 May 29 07:35 license-plate-detector-engines.yaml\n"
     ]
    }
   ],
   "source": [
    "!ls -rlt license-plate-detector-engines.yaml"
   ]
  },
  {
   "cell_type": "code",
   "execution_count": 6,
   "id": "a5c06be7-8818-4095-a705-139a6357d806",
   "metadata": {},
   "outputs": [
    {
     "name": "stdout",
     "output_type": "stream",
     "text": [
      "servingruntime.serving.kserve.io/kserve-tritonserver-ngc unchanged\n",
      "secret/triton-s3-proxy configured\n",
      "serviceaccount/s3-proxy-kserve-sa configured\n",
      "inferenceservice.serving.kserve.io/license-plate-detector-engines created\n"
     ]
    }
   ],
   "source": [
    "!kubectl apply -f license-plate-detector-engines.yaml"
   ]
  },
  {
   "cell_type": "code",
   "execution_count": 8,
   "id": "fe39cdd7-8c87-406e-977e-9aecf7a6a3ae",
   "metadata": {},
   "outputs": [
    {
     "name": "stdout",
     "output_type": "stream",
     "text": [
      "NAME                                                              READY   STATUS    RESTARTS     AGE\n",
      "copy-0                                                            2/2     Running   0            75d\n",
      "fs-57c764ddbd-skbzq                                               2/2     Running   0            77d\n",
      "license-plate-detector-engines-predictor-00001-deployment-sj2zp   1/3     Error     1 (5s ago)   19s\n",
      "ml-pipeline-ui-artifact-74d66ccfdf-vqwf7                          2/2     Running   0            77d\n",
      "ml-pipeline-visualizationserver-7794858c98-c5pr5                  2/2     Running   0            77d\n",
      "triton-kserve-test-0                                              2/2     Running   0            71d\n",
      "trt-test-0                                                        2/2     Running   0            29h\n"
     ]
    }
   ],
   "source": [
    "!kubectl get pods"
   ]
  },
  {
   "cell_type": "code",
   "execution_count": 1,
   "id": "7882b5c5-7ee5-4181-8085-fd87cb03a6ce",
   "metadata": {},
   "outputs": [
    {
     "name": "stdout",
     "output_type": "stream",
     "text": [
      "NAME                                                     TYPE        CLUSTER-IP       EXTERNAL-IP   PORT(S)                                              AGE\n",
      "copy                                                     ClusterIP   10.99.135.123    <none>        80/TCP                                               75d\n",
      "fs                                                       ClusterIP   10.108.51.199    <none>        80/TCP                                               77d\n",
      "license-plate-detector-engines-predictor-00001           ClusterIP   10.96.184.66     <none>        80/TCP,443/TCP                                       3m51s\n",
      "license-plate-detector-engines-predictor-00001-private   ClusterIP   10.99.236.176    <none>        80/TCP,443/TCP,9090/TCP,9091/TCP,8022/TCP,8012/TCP   3m51s\n",
      "ml-pipeline-ui-artifact                                  ClusterIP   10.96.21.28      <none>        80/TCP                                               77d\n",
      "ml-pipeline-visualizationserver                          ClusterIP   10.111.30.216    <none>        8888/TCP                                             77d\n",
      "notebook-geun-tak-roh-hp-57f69d47                        ClusterIP   10.106.215.30    <none>        80/TCP                                               77d\n",
      "triton-kserve-test                                       ClusterIP   10.100.100.33    <none>        80/TCP                                               71d\n",
      "triton-server                                            ClusterIP   10.97.249.5      <none>        80/TCP                                               75d\n",
      "trt-test                                                 ClusterIP   10.111.204.101   <none>        80/TCP                                               76d\n"
     ]
    }
   ],
   "source": [
    "!kubectl get svc"
   ]
  },
  {
   "cell_type": "code",
   "execution_count": null,
   "id": "2086583b-55d2-4846-b5c5-441face19d71",
   "metadata": {},
   "outputs": [],
   "source": []
  }
 ],
 "metadata": {
  "kernelspec": {
   "display_name": "Python 3 (ipykernel)",
   "language": "python",
   "name": "python3"
  },
  "language_info": {
   "codemirror_mode": {
    "name": "ipython",
    "version": 3
   },
   "file_extension": ".py",
   "mimetype": "text/x-python",
   "name": "python",
   "nbconvert_exporter": "python",
   "pygments_lexer": "ipython3",
   "version": "3.11.9"
  }
 },
 "nbformat": 4,
 "nbformat_minor": 5
}
