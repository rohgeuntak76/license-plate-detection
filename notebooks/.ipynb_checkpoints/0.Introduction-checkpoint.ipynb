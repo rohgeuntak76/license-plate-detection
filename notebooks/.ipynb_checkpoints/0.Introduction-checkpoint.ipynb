{
 "cells": [
  {
   "cell_type": "markdown",
   "id": "983aaeea-c318-4ff0-8c38-e0aa27be705e",
   "metadata": {},
   "source": [
    "<img src=\"assets/hpe_pri_grn_pos_rgb.png\" alt=\"HPE Logo\" width=\"200\">"
   ]
  },
  {
   "cell_type": "markdown",
   "id": "b654b5b6-7b34-4223-8b57-51f12d001269",
   "metadata": {},
   "source": [
    "# PCAI Use Case Demo - License Plate Number Detection\n",
    "## Step 0. Introduction\n",
    "Object Detection and Image recognition is one of the most popular area in AI. Among its various use cases, Automatic Number Plate Recognition (ANPR) stands out as a critical application that leverages object detection and image recognition. From traffic management to law enforcement and parking automation, ANPR systems are solving various challenges. In this demo, we will demonstrate How can ANPR be implemented with PCAI.\n",
    "\n",
    "### Prerequisites\n",
    "1. Launch Jupyter notebook with at least 1 GPU, 4 CPU , 10GB. \n",
    "2. Before running exercise notebooks, open a new tab and start a new Terminal session.\n",
    "3. Ensure you are in the same directory path as this notebook.\n",
    "4. Run pip install -r requirements.txt. Where applicable, ensure your environment proxy settings are set.\n",
    "5. Apply patch by executing below cell"
   ]
  },
  {
   "cell_type": "code",
   "execution_count": 4,
   "id": "1f082094-9985-4504-9f14-a340a51656aa",
   "metadata": {},
   "outputs": [
    {
     "name": "stdout",
     "output_type": "stream",
     "text": [
      "/home/geuntak/.local/lib/python3.11/site-packages/ultralytics/utils/triton.py\n",
      "/home/geuntak/.local/lib/python3.11/site-packages/ultralytics/utils/export.py\n"
     ]
    }
   ],
   "source": [
    "import importlib.util\n",
    "import shutil\n",
    "import os\n",
    "\n",
    "package_name = \"ultralytics\"\n",
    "spec = importlib.util.find_spec(package_name)\n",
    "package_path = spec.origin\n",
    "\n",
    "triton_target_file = os.path.join(os.path.dirname(package_path),\"utils/triton.py\") \n",
    "## for 8.3.77\n",
    "# exporter_target_file = os.path.join(os.path.dirname(package_path),\"engine/exporter.py\") \n",
    "## for 8.3.153\n",
    "exporter_target_file = os.path.join(os.path.dirname(package_path),\"utils/export.py\") \n",
    "\n",
    "patched_file_triton = \"resources/triton.py_token\"\n",
    "## for 8.3.77\n",
    "# patched_file_exporter = \"resources/exporter.py_meta_153\"\n",
    "## for 8.3.153\n",
    "patched_file_exporter = \"resources/export.py_meta_153\"\n",
    "\n",
    "shutil.copy2(patched_file_triton, triton_target_file)\n",
    "shutil.copy2(patched_file_exporter, exporter_target_file)\n",
    "\n",
    "print(triton_target_file)\n",
    "print(exporter_target_file)"
   ]
  },
  {
   "cell_type": "markdown",
   "id": "0dc5ad07-d918-48f3-bbcf-1c6f54e9440f",
   "metadata": {},
   "source": [
    "### Contents\n",
    "<a href=\"./1.Prepare_Model.ipynb\" style=\"color: black\"><b style=\"color: #01a982;\">Step 1:</b> Finetune License Plate Detection Model and Benchmark against various format.</a>\n",
    "\n",
    "<a href=\"./2.Deploy_Models.ipynb\" style=\"color: black\"><b style=\"color: #01a982;\">Step 2:</b> Convert Model and Serve by MLIS</a>\n",
    "\n",
    "<a href=\"./3.Implement_License_Plate_Number_Detection.ipynb\" style=\"color: black\"><b style=\"color: #01a982;\">Step 3:</b> Implement License Plate Number Detection Logic</a>"
   ]
  },
  {
   "cell_type": "markdown",
   "id": "5fbfc2a6-202b-4352-97ca-1651ca2afc0d",
   "metadata": {},
   "source": [
    "### Acknowledgements\n",
    "- This demo is built on AIE 1.6, In the future release, this demo would not work properly."
   ]
  }
 ],
 "metadata": {
  "kernelspec": {
   "display_name": "Python 3 (ipykernel)",
   "language": "python",
   "name": "python3"
  },
  "language_info": {
   "codemirror_mode": {
    "name": "ipython",
    "version": 3
   },
   "file_extension": ".py",
   "mimetype": "text/x-python",
   "name": "python",
   "nbconvert_exporter": "python",
   "pygments_lexer": "ipython3",
   "version": "3.11.9"
  }
 },
 "nbformat": 4,
 "nbformat_minor": 5
}
