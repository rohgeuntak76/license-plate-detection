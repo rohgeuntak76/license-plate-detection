{
 "cells": [
  {
   "cell_type": "code",
   "execution_count": 1,
   "id": "6d29fa7d-fa5f-4a68-9976-dccb39609cea",
   "metadata": {},
   "outputs": [
    {
     "name": "stdout",
     "output_type": "stream",
     "text": [
      "Token successfully refreshed.\n"
     ]
    }
   ],
   "source": [
    "%update_token"
   ]
  },
  {
   "cell_type": "code",
   "execution_count": 1,
   "id": "2b809c8a-7b68-4a5a-b08b-f858e7c8c191",
   "metadata": {},
   "outputs": [
    {
     "name": "stdout",
     "output_type": "stream",
     "text": [
      "JPY_SESSION_NAME=/home/geun-tak.roh-hpe.com/geun-tak-roh-hp-117928e5/license_detection/finetune/3. Finetune with MLFlow.ipynb\n",
      "MLFLOW_S3_ENDPOINT_URL=http://local-s3-service.ezdata-system.svc.cluster.local:30000\n",
      "MLFLOW_S3_IGNORE_TLS=true\n",
      "MLFLOW_TRACKING_INSECURE_TLS=true\n",
      "MLFLOW_TRACKING_TOKEN=eyJhbGciOiJSUzI1NiIsInR5cCIgOiAiSldUIiwia2lkIiA6ICJ4dWVCbXhzdldzNkZUZ1B6dThmNG9HbTRldU1EYi13YUExZEhPT0g2SzZFIn0.eyJleHAiOjE3NDgyNDIzMzUsImlhdCI6MTc0ODI0MDUzNSwiYXV0aF90aW1lIjoxNzQ4MjIyNjgzLCJqdGkiOiIzZGVjODg3MS1iYTVhLTRiOTMtOTIwMi02YjM3MjgzZDI0ZGQiLCJpc3MiOiJodHRwczovL2tleWNsb2FrLmluZ3Jlc3MucGNhaTAzMDUuc2cyLmhwZWNvbG8ubmV0L3JlYWxtcy9VQSIsInN1YiI6ImZhZDM4N2U2LWJlYTEtNGRkYy1iM2ZlLTM4NzNlMjBhNTM1OSIsInR5cCI6IkJlYXJlciIsImF6cCI6InVhIiwibm9uY2UiOiJJby1qa2hJZUVOSG9Xa3dxNlk4dE1LTm5oNk9OMkwxYjdWOVRySzBUMlBrIiwic2Vzc2lvbl9zdGF0ZSI6ImQ4N2Q3MDY1LTE5MWYtNGZjZS1iOTRkLTZiMDM3NDZjYjU5NSIsImFjciI6IjEiLCJzY29wZSI6Im9wZW5pZCBwcm9maWxlIHNnMnMxNzNyMzA6dWEgZW1haWwgb2ZmbGluZV9hY2Nlc3MiLCJzaWQiOiJkODdkNzA2NS0xOTFmLTRmY2UtYjk0ZC02YjAzNzQ2Y2I1OTUiLCJ1aWQiOiIxMDAwMDAwOCIsImVtYWlsX3ZlcmlmaWVkIjpmYWxzZSwiZ2lkIjoiMTAwMSIsIm5hbWUiOiJHZXVuIFRhayBSb2giLCJuYW1lc3BhY2UiOiJnZXVuLXRhay1yb2gtaHAtMTE3OTI4ZTUiLCJncm91cHMiOlsidWEtZW5hYmxlZCIsIm9mZmxpbmVfYWNjZXNzIiwiYWRtaW4iLCJ1bWFfYXV0aG9yaXphdGlvbiIsImRlZmF1bHQtcm9sZXMtdWEiXSwicHJlZmVycmVkX3VzZXJuYW1lIjoiZ2V1bi10YWsucm9oLWhwZS5jb20iLCJnaXZlbl9uYW1lIjoiR2V1biBUYWsiLCJwb3NpeF91c2VybmFtZSI6ImdldW4tdGFrLnJvaC1ocGUuY29tIiwiZmFtaWx5X25hbWUiOiJSb2giLCJlbWFpbCI6ImdldW4tdGFrLnJvaEBocGUuY29tIn0.WDkQbE96nYaYwKht0Si0VQxVbrq9CFrLgH7wh2paj2JGD5Z2fd1FnlfSWZVsonS1zeVaejec5qllAMJGKht2e4Ju3V5I3c4NQCz1FZ1LXHRetPoXI0JVei8wFKo6Geg_TiUvfRBj6zxeP7JdMhGL6tKjh5obCoU_qlTVWBQh4_dOF5ijFQu-HaZWn9RkXUN-_fsE8ZgSwIRlgkmuS1UVE1buNm1-ij2R7oFAbTc4BAQKjDk4CDBvRy3f-o4EmQUlfyXEh4upXcLvIavdaLw0rAwDYd_TErlFdF-8vVcm5RZs3azhkfnv-n79yfYJoLsHChQ2oNR72PW4necmtZ4fIA\n"
     ]
    }
   ],
   "source": [
    "!env| grep -i mlflow"
   ]
  },
  {
   "cell_type": "code",
   "execution_count": 2,
   "id": "7bb57b5c-1c89-4f02-a730-1a756cc9adae",
   "metadata": {},
   "outputs": [],
   "source": [
    "from ultralytics import YOLO\n",
    "import os"
   ]
  },
  {
   "cell_type": "code",
   "execution_count": 3,
   "id": "2dd000fb-cd8c-4935-8117-9fa0591d554f",
   "metadata": {},
   "outputs": [],
   "source": [
    "model = YOLO(\"yolo11s\")"
   ]
  },
  {
   "cell_type": "code",
   "execution_count": 4,
   "id": "6e5b05b2-57e4-47ec-8b11-e4b62a640504",
   "metadata": {},
   "outputs": [],
   "source": [
    "datasets = \"./datasets/data.yaml\""
   ]
  },
  {
   "cell_type": "code",
   "execution_count": 5,
   "id": "64b0d4c7-7a08-4b83-bb58-e2437606c1ae",
   "metadata": {},
   "outputs": [
    {
     "data": {
      "text/plain": [
       "[<function ultralytics.utils.callbacks.base.on_model_save(trainer)>,\n",
       " <function __main__.update_token(trainer)>]"
      ]
     },
     "execution_count": 5,
     "metadata": {},
     "output_type": "execute_result"
    }
   ],
   "source": [
    "model.reset_callbacks()\n",
    "def update_token(trainer):\n",
    "    with open('/etc/secrets/ezua/.auth_token','r') as file:\n",
    "        AUTH_TOKEN = file.read()\n",
    "        os.environ['MLFLOW_TRACKING_TOKEN']=AUTH_TOKEN\n",
    "        print(\"Token successfully refreshed.\")\n",
    "\n",
    "model.add_callback(\"on_model_save\",update_token)\n",
    "# dir(model.callbacks.items)\n",
    "model.callbacks[\"on_model_save\"]"
   ]
  },
  {
   "cell_type": "code",
   "execution_count": 6,
   "id": "89db394b-c6a2-4bd1-95c6-3689a3db5829",
   "metadata": {},
   "outputs": [],
   "source": [
    "run_name = model.model_name.name.replace('.pt','-') + time.strftime(\"%Y%m%d-%H%M%S\", time.localtime())\n",
    "\n",
    "os.environ['MLFLOW_RUN'] = run_name\n",
    "os.environ['MLFLOW_TRACKING_URI'] = \"https://mlflow.ingress.pcai0305.sg2.hpecolo.net\"\n",
    "os.environ['MLFLOW_EXPERIMENT_NAME'] = 'license_plate_yolo11s'"
   ]
  },
  {
   "cell_type": "code",
   "execution_count": 7,
   "id": "3beff31f-2c26-4d4f-b81b-55d2e7f37433",
   "metadata": {},
   "outputs": [
    {
     "name": "stdout",
     "output_type": "stream",
     "text": [
      "MLflow Tracking URI: http://mlflow.mlflow.svc.cluster.local:5000\n"
     ]
    }
   ],
   "source": [
    "import mlflow\n",
    "print(\"MLflow Tracking URI:\", mlflow.get_tracking_uri())"
   ]
  },
  {
   "cell_type": "code",
   "execution_count": 8,
   "id": "de9eea72-5420-4615-a087-8cf84d95e9e0",
   "metadata": {
    "scrolled": true
   },
   "outputs": [
    {
     "name": "stdout",
     "output_type": "stream",
     "text": [
      "New https://pypi.org/project/ultralytics/8.3.145 available 😃 Update with 'pip install -U ultralytics'\n",
      "Ultralytics 8.3.144 🚀 Python-3.11.9 torch-2.7.0+cu126 CUDA:0 (NVIDIA L40S, 45589MiB)\n",
      "\u001b[34m\u001b[1mengine/trainer: \u001b[0magnostic_nms=False, amp=True, augment=False, auto_augment=randaugment, batch=16, bgr=0.0, box=7.5, cache=False, cfg=None, classes=None, close_mosaic=10, cls=0.5, conf=None, copy_paste=0.0, copy_paste_mode=flip, cos_lr=False, cutmix=0.0, data=./datasets/data.yaml, degrees=0.0, deterministic=True, device=None, dfl=1.5, dnn=False, dropout=0.0, dynamic=False, embed=None, epochs=3, erasing=0.4, exist_ok=False, fliplr=0.5, flipud=0.0, format=torchscript, fraction=1.0, freeze=None, half=False, hsv_h=0.015, hsv_s=0.7, hsv_v=0.4, imgsz=640, int8=False, iou=0.7, keras=False, kobj=1.0, line_width=None, lr0=0.01, lrf=0.01, mask_ratio=4, max_det=300, mixup=0.0, mode=train, model=yolo11s.pt, momentum=0.937, mosaic=1.0, multi_scale=False, name=train10, nbs=64, nms=False, opset=None, optimize=False, optimizer=auto, overlap_mask=True, patience=100, perspective=0.0, plots=True, pose=12.0, pretrained=True, profile=False, project=None, rect=False, resume=False, retina_masks=False, save=True, save_conf=False, save_crop=False, save_dir=runs/detect/train10, save_frames=False, save_json=False, save_period=-1, save_txt=False, scale=0.5, seed=0, shear=0.0, show=False, show_boxes=True, show_conf=True, show_labels=True, simplify=True, single_cls=False, source=None, split=val, stream_buffer=False, task=detect, time=None, tracker=botsort.yaml, translate=0.1, val=True, verbose=True, vid_stride=1, visualize=False, warmup_bias_lr=0.1, warmup_epochs=3.0, warmup_momentum=0.8, weight_decay=0.0005, workers=8, workspace=None\n",
      "Overriding model.yaml nc=80 with nc=1\n",
      "\n",
      "                   from  n    params  module                                       arguments                     \n",
      "  0                  -1  1       928  ultralytics.nn.modules.conv.Conv             [3, 32, 3, 2]                 \n",
      "  1                  -1  1     18560  ultralytics.nn.modules.conv.Conv             [32, 64, 3, 2]                \n",
      "  2                  -1  1     26080  ultralytics.nn.modules.block.C3k2            [64, 128, 1, False, 0.25]     \n",
      "  3                  -1  1    147712  ultralytics.nn.modules.conv.Conv             [128, 128, 3, 2]              \n",
      "  4                  -1  1    103360  ultralytics.nn.modules.block.C3k2            [128, 256, 1, False, 0.25]    \n",
      "  5                  -1  1    590336  ultralytics.nn.modules.conv.Conv             [256, 256, 3, 2]              \n",
      "  6                  -1  1    346112  ultralytics.nn.modules.block.C3k2            [256, 256, 1, True]           \n",
      "  7                  -1  1   1180672  ultralytics.nn.modules.conv.Conv             [256, 512, 3, 2]              \n",
      "  8                  -1  1   1380352  ultralytics.nn.modules.block.C3k2            [512, 512, 1, True]           \n",
      "  9                  -1  1    656896  ultralytics.nn.modules.block.SPPF            [512, 512, 5]                 \n",
      " 10                  -1  1    990976  ultralytics.nn.modules.block.C2PSA           [512, 512, 1]                 \n",
      " 11                  -1  1         0  torch.nn.modules.upsampling.Upsample         [None, 2, 'nearest']          \n",
      " 12             [-1, 6]  1         0  ultralytics.nn.modules.conv.Concat           [1]                           \n",
      " 13                  -1  1    443776  ultralytics.nn.modules.block.C3k2            [768, 256, 1, False]          \n",
      " 14                  -1  1         0  torch.nn.modules.upsampling.Upsample         [None, 2, 'nearest']          \n",
      " 15             [-1, 4]  1         0  ultralytics.nn.modules.conv.Concat           [1]                           \n",
      " 16                  -1  1    127680  ultralytics.nn.modules.block.C3k2            [512, 128, 1, False]          \n",
      " 17                  -1  1    147712  ultralytics.nn.modules.conv.Conv             [128, 128, 3, 2]              \n",
      " 18            [-1, 13]  1         0  ultralytics.nn.modules.conv.Concat           [1]                           \n",
      " 19                  -1  1    345472  ultralytics.nn.modules.block.C3k2            [384, 256, 1, False]          \n",
      " 20                  -1  1    590336  ultralytics.nn.modules.conv.Conv             [256, 256, 3, 2]              \n",
      " 21            [-1, 10]  1         0  ultralytics.nn.modules.conv.Concat           [1]                           \n",
      " 22                  -1  1   1511424  ultralytics.nn.modules.block.C3k2            [768, 512, 1, True]           \n",
      " 23        [16, 19, 22]  1    819795  ultralytics.nn.modules.head.Detect           [1, [128, 256, 512]]          \n",
      "YOLO11s summary: 181 layers, 9,428,179 parameters, 9,428,163 gradients, 21.5 GFLOPs\n",
      "\n",
      "Transferred 493/499 items from pretrained weights\n",
      "Freezing layer 'model.23.dfl.conv.weight'\n",
      "\u001b[34m\u001b[1mAMP: \u001b[0mrunning Automatic Mixed Precision (AMP) checks...\n",
      "\u001b[34m\u001b[1mAMP: \u001b[0mchecks passed ✅\n",
      "\u001b[34m\u001b[1mtrain: \u001b[0mFast image access ✅ (ping: 0.1±0.1 ms, read: 20.6±3.9 MB/s, size: 43.7 KB)\n"
     ]
    },
    {
     "name": "stderr",
     "output_type": "stream",
     "text": [
      "\u001b[34m\u001b[1mtrain: \u001b[0mScanning /mnt/user/license_detection/finetune/datasets/train/labels.cache... 21173 images, 28 backgrounds, 0 corrupt: 100%|██████████| 21173/21173 [00:00<?, ?it/s]\n"
     ]
    },
    {
     "name": "stdout",
     "output_type": "stream",
     "text": [
      "\u001b[34m\u001b[1mval: \u001b[0mFast image access ✅ (ping: 0.0±0.0 ms, read: 11.2±3.1 MB/s, size: 35.9 KB)\n"
     ]
    },
    {
     "name": "stderr",
     "output_type": "stream",
     "text": [
      "\u001b[34m\u001b[1mval: \u001b[0mScanning /mnt/user/license_detection/finetune/datasets/valid/labels.cache... 2046 images, 3 backgrounds, 0 corrupt: 100%|██████████| 2046/2046 [00:00<?, ?it/s]\n"
     ]
    },
    {
     "name": "stdout",
     "output_type": "stream",
     "text": [
      "Plotting labels to runs/detect/train10/labels.jpg... \n",
      "\u001b[34m\u001b[1moptimizer:\u001b[0m 'optimizer=auto' found, ignoring 'lr0=0.01' and 'momentum=0.937' and determining best 'optimizer', 'lr0' and 'momentum' automatically... \n",
      "\u001b[34m\u001b[1moptimizer:\u001b[0m AdamW(lr=0.002, momentum=0.9) with parameter groups 81 weight(decay=0.0), 88 weight(decay=0.0005), 87 bias(decay=0.0)\n"
     ]
    },
    {
     "name": "stderr",
     "output_type": "stream",
     "text": [
      "2025/05/26 05:57:40 WARNING mlflow.utils.autologging_utils: MLflow statsmodels autologging is known to be compatible with 0.11.1 <= statsmodels <= 0.14.2, but the installed version is 0.14.4. If you encounter errors during autologging, try upgrading / downgrading statsmodels to a compatible version, or try upgrading MLflow.\n",
      "2025/05/26 05:57:40 INFO mlflow.tracking.fluent: Autologging successfully enabled for statsmodels.\n"
     ]
    },
    {
     "name": "stdout",
     "output_type": "stream",
     "text": [
      "\u001b[34m\u001b[1mMLflow: \u001b[0mlogging run_id(b087c4f05f684bcaa1d823e3e70185bf) to https://mlflow.ingress.pcai0305.sg2.hpecolo.net\n",
      "\u001b[34m\u001b[1mMLflow: \u001b[0mdisable with 'yolo settings mlflow=False'\n",
      "Image sizes 640 train, 640 val\n",
      "Using 8 dataloader workers\n",
      "Logging results to \u001b[1mruns/detect/train10\u001b[0m\n",
      "Starting training for 3 epochs...\n",
      "\n",
      "      Epoch    GPU_mem   box_loss   cls_loss   dfl_loss  Instances       Size\n"
     ]
    },
    {
     "name": "stderr",
     "output_type": "stream",
     "text": [
      "        1/3      3.99G      1.326      1.236      1.311          9        640: 100%|██████████| 1324/1324 [01:30<00:00, 14.64it/s]\n",
      "                 Class     Images  Instances      Box(P          R      mAP50  mAP50-95): 100%|██████████| 64/64 [00:04<00:00, 13.64it/s]"
     ]
    },
    {
     "name": "stdout",
     "output_type": "stream",
     "text": [
      "                   all       2046       2132      0.921      0.861      0.902      0.535\n"
     ]
    },
    {
     "name": "stderr",
     "output_type": "stream",
     "text": [
      "\n"
     ]
    },
    {
     "name": "stdout",
     "output_type": "stream",
     "text": [
      "AUTH TOKEN update is done!\n",
      "\n",
      "      Epoch    GPU_mem   box_loss   cls_loss   dfl_loss  Instances       Size\n"
     ]
    },
    {
     "name": "stderr",
     "output_type": "stream",
     "text": [
      "        2/3      4.92G      1.266     0.7606       1.27          4        640: 100%|██████████| 1324/1324 [01:24<00:00, 15.60it/s]\n",
      "                 Class     Images  Instances      Box(P          R      mAP50  mAP50-95): 100%|██████████| 64/64 [00:04<00:00, 14.09it/s]"
     ]
    },
    {
     "name": "stdout",
     "output_type": "stream",
     "text": [
      "                   all       2046       2132      0.947      0.905      0.946      0.585\n"
     ]
    },
    {
     "name": "stderr",
     "output_type": "stream",
     "text": [
      "\n"
     ]
    },
    {
     "name": "stdout",
     "output_type": "stream",
     "text": [
      "AUTH TOKEN update is done!\n",
      "\n",
      "      Epoch    GPU_mem   box_loss   cls_loss   dfl_loss  Instances       Size\n"
     ]
    },
    {
     "name": "stderr",
     "output_type": "stream",
     "text": [
      "        3/3      4.96G      1.198     0.6647      1.224          7        640: 100%|██████████| 1324/1324 [01:22<00:00, 16.04it/s]\n",
      "                 Class     Images  Instances      Box(P          R      mAP50  mAP50-95): 100%|██████████| 64/64 [00:04<00:00, 13.92it/s]"
     ]
    },
    {
     "name": "stdout",
     "output_type": "stream",
     "text": [
      "                   all       2046       2132      0.956      0.922      0.969      0.642\n"
     ]
    },
    {
     "name": "stderr",
     "output_type": "stream",
     "text": [
      "\n"
     ]
    },
    {
     "name": "stdout",
     "output_type": "stream",
     "text": [
      "AUTH TOKEN update is done!\n",
      "\n",
      "3 epochs completed in 0.076 hours.\n",
      "Optimizer stripped from runs/detect/train10/weights/last.pt, 19.2MB\n",
      "Optimizer stripped from runs/detect/train10/weights/best.pt, 19.2MB\n",
      "\n",
      "Validating runs/detect/train10/weights/best.pt...\n",
      "Ultralytics 8.3.144 🚀 Python-3.11.9 torch-2.7.0+cu126 CUDA:0 (NVIDIA L40S, 45589MiB)\n",
      "YOLO11s summary (fused): 100 layers, 9,413,187 parameters, 0 gradients, 21.3 GFLOPs\n"
     ]
    },
    {
     "name": "stderr",
     "output_type": "stream",
     "text": [
      "                 Class     Images  Instances      Box(P          R      mAP50  mAP50-95): 100%|██████████| 64/64 [00:05<00:00, 12.40it/s]\n"
     ]
    },
    {
     "name": "stdout",
     "output_type": "stream",
     "text": [
      "                   all       2046       2132      0.955      0.922      0.969      0.642\n",
      "Speed: 0.1ms preprocess, 0.8ms inference, 0.0ms loss, 0.5ms postprocess per image\n",
      "Results saved to \u001b[1mruns/detect/train10\u001b[0m\n"
     ]
    },
    {
     "name": "stderr",
     "output_type": "stream",
     "text": [
      "2025/05/26 06:02:26 INFO mlflow.tracking._tracking_service.client: 🏃 View run yolo11s-20250526-055714 at: https://mlflow.ingress.pcai0305.sg2.hpecolo.net/#/experiments/1/runs/b087c4f05f684bcaa1d823e3e70185bf.\n",
      "2025/05/26 06:02:26 INFO mlflow.tracking._tracking_service.client: 🧪 View experiment at: https://mlflow.ingress.pcai0305.sg2.hpecolo.net/#/experiments/1.\n"
     ]
    },
    {
     "name": "stdout",
     "output_type": "stream",
     "text": [
      "\u001b[34m\u001b[1mMLflow: \u001b[0mresults logged to https://mlflow.ingress.pcai0305.sg2.hpecolo.net\n",
      "\u001b[34m\u001b[1mMLflow: \u001b[0mdisable with 'yolo settings mlflow=False'\n"
     ]
    }
   ],
   "source": [
    "results = model.train(data=datasets, epochs=3)  # train the model"
   ]
  },
  {
   "cell_type": "code",
   "execution_count": 12,
   "id": "94dfa371-1649-45b0-a23d-7d87e55e3c78",
   "metadata": {
    "scrolled": true
   },
   "outputs": [
    {
     "data": {
      "text/plain": [
       "PosixPath('runs/detect/train10/results.csv')"
      ]
     },
     "execution_count": 12,
     "metadata": {},
     "output_type": "execute_result"
    }
   ],
   "source": [
    "results.save_dir.joinpath(\"results.csv\")"
   ]
  },
  {
   "cell_type": "code",
   "execution_count": 13,
   "id": "fb535eeb-d3e2-4004-b70e-ba121732d0b8",
   "metadata": {},
   "outputs": [],
   "source": [
    "from ultralytics.utils.plotting import plot_results\n",
    "plot_results(results.save_dir.joinpath(\"results.csv\"))"
   ]
  },
  {
   "cell_type": "code",
   "execution_count": null,
   "id": "67e34e98-572e-4847-89a0-d61db62caf9d",
   "metadata": {},
   "outputs": [],
   "source": []
  }
 ],
 "metadata": {
  "kernelspec": {
   "display_name": "Python 3 (ipykernel)",
   "language": "python",
   "name": "python3"
  },
  "language_info": {
   "codemirror_mode": {
    "name": "ipython",
    "version": 3
   },
   "file_extension": ".py",
   "mimetype": "text/x-python",
   "name": "python",
   "nbconvert_exporter": "python",
   "pygments_lexer": "ipython3",
   "version": "3.11.9"
  }
 },
 "nbformat": 4,
 "nbformat_minor": 5
}
