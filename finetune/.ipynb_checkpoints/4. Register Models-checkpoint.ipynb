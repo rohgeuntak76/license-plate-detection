{
 "cells": [
  {
   "cell_type": "code",
   "execution_count": 3,
   "id": "a52de069-bd18-4d1e-9842-187754d0e732",
   "metadata": {},
   "outputs": [
    {
     "name": "stdout",
     "output_type": "stream",
     "text": [
      "There's a new jupysql version available (0.11.1), you're running 0.9.0. To upgrade: pip install jupysql --upgrade\n",
      "Deploy FastAPI apps for free on Ploomber Cloud! Learn more: https://ploomber.io/s/signup\n",
      "Token successfully refreshed.\n"
     ]
    }
   ],
   "source": [
    "%update_token"
   ]
  },
  {
   "cell_type": "code",
   "execution_count": 8,
   "id": "668344a9-d93f-4a1a-ac14-c8eacd11d061",
   "metadata": {},
   "outputs": [],
   "source": [
    "import mlflow\n",
    "from mlflow import MlflowClient"
   ]
  },
  {
   "cell_type": "code",
   "execution_count": 9,
   "id": "06bea8ea-5b07-4b3b-b052-a1252b36b4a7",
   "metadata": {},
   "outputs": [],
   "source": [
    "client = MlflowClient()"
   ]
  },
  {
   "cell_type": "code",
   "execution_count": 31,
   "id": "88844b58-c062-49db-bf9e-4731e2c1dfb4",
   "metadata": {},
   "outputs": [
    {
     "name": "stderr",
     "output_type": "stream",
     "text": [
      "Registered model 'yolo11s-license_plate' already exists. Creating a new version of this model...\n",
      "2025/05/27 05:11:11 INFO mlflow.store.model_registry.abstract_store: Waiting up to 300 seconds for model version to finish creation. Model name: yolo11s-license_plate, version 4\n",
      "Created version '4' of model 'yolo11s-license_plate'.\n"
     ]
    }
   ],
   "source": [
    "result = mlflow.register_model(\n",
    "    \"runs:/14be0ff37e03403b9f50b3cd4e8dd7a5/yolo11s-20250526-074546\", \n",
    "    \"yolo11s-license_plate\",\n",
    "    tags={\n",
    "        \"backbone\" : \"yolo11s\",\n",
    "        \"object\" : \"License Plate\",\n",
    "    },\n",
    ")"
   ]
  },
  {
   "cell_type": "code",
   "execution_count": 32,
   "id": "e1c4f0ef-2a12-4020-9832-706a3c7cf2f6",
   "metadata": {},
   "outputs": [
    {
     "data": {
      "text/plain": [
       "<ModelVersion: aliases=[], creation_timestamp=1748322671960, current_stage='None', description='Finetuned model for License Plate Detection', last_updated_timestamp=1748322677061, name='yolo11s-license_plate', run_id='14be0ff37e03403b9f50b3cd4e8dd7a5', run_link='', source='s3://mlflow.sg2s173r30/1/14be0ff37e03403b9f50b3cd4e8dd7a5/artifacts/yolo11s-20250526-074546', status='READY', status_message='', tags={'backbone': 'yolo11s', 'object': 'License Plate'}, user_id='', version='4'>"
      ]
     },
     "execution_count": 32,
     "metadata": {},
     "output_type": "execute_result"
    }
   ],
   "source": [
    "client.update_model_version(\n",
    "    name=\"yolo11s-license_plate\",\n",
    "    version=4,\n",
    "    description=\"Finetuned model for License Plate Detection\",\n",
    ")"
   ]
  },
  {
   "cell_type": "code",
   "execution_count": 34,
   "id": "dc2355ab-675e-4e0e-93b7-1dcdaeed1ffa",
   "metadata": {},
   "outputs": [
    {
     "name": "stdout",
     "output_type": "stream",
     "text": [
      "Name : yolo11s-license_plate \n",
      "Source : s3://mlflow.sg2s173r30/1/14be0ff37e03403b9f50b3cd4e8dd7a5/artifacts/yolo11s-20250526-074546 \n",
      "run_id : 14be0ff37e03403b9f50b3cd4e8dd7a5 \n",
      "Tags : {'backbone': 'yolo11s', 'object': 'License Plate'} \n",
      "Version: 4\n"
     ]
    }
   ],
   "source": [
    "print(f\"Name : {result.name} \\nSource : {result.source} \\nrun_id : {result.run_id} \\nTags : {result.tags} \\nVersion: {result.version}\")"
   ]
  },
  {
   "cell_type": "code",
   "execution_count": null,
   "id": "ac7e9890-0043-4be3-88fd-f2446d967977",
   "metadata": {},
   "outputs": [],
   "source": []
  }
 ],
 "metadata": {
  "kernelspec": {
   "display_name": "Python 3 (ipykernel)",
   "language": "python",
   "name": "python3"
  },
  "language_info": {
   "codemirror_mode": {
    "name": "ipython",
    "version": 3
   },
   "file_extension": ".py",
   "mimetype": "text/x-python",
   "name": "python",
   "nbconvert_exporter": "python",
   "pygments_lexer": "ipython3",
   "version": "3.11.9"
  }
 },
 "nbformat": 4,
 "nbformat_minor": 5
}
