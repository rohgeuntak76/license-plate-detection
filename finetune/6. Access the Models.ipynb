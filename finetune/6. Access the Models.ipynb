{
 "cells": [
  {
   "cell_type": "code",
   "execution_count": 1,
   "id": "a932edc0-be6b-4b59-9ec6-2b51a49ec51c",
   "metadata": {},
   "outputs": [],
   "source": [
    "from ultralytics.utils.benchmarks import benchmark\n",
    "import pandas as pd"
   ]
  },
  {
   "cell_type": "code",
   "execution_count": 2,
   "id": "df5cbb37-2153-4a91-a632-11ee833795ce",
   "metadata": {},
   "outputs": [],
   "source": [
    "datasets = \"./datasets/data.yaml\"\n",
    "model_path = \"/mnt/user/license_detection/finetune/artifact_downloads/14be0ff37e03403b9f50b3cd4e8dd7a5/weights/best.pt\"\n",
    "\n",
    "test_formats = ['-','torchscript','onnx','engine']\n",
    "# test_formats = ['-']\n",
    "\n",
    "all_result = pd.DataFrame(columns=['Format','Status❔', 'Size (MB)', 'metrics/mAP50-95(B)', 'Inference time (ms/im)', 'FPS'])"
   ]
  },
  {
   "cell_type": "code",
   "execution_count": 3,
   "id": "6e69fc58-a18e-4479-b7da-18044e50e786",
   "metadata": {},
   "outputs": [
    {
     "name": "stdout",
     "output_type": "stream",
     "text": [
      "Setup complete ✅ (128 CPUs, 503.1 GB RAM, 255.6/380.8 GB disk)\n",
      "\n",
      "Benchmarks complete for /mnt/user/license_detection/finetune/artifact_downloads/14be0ff37e03403b9f50b3cd4e8dd7a5/weights/best.pt on ./datasets/data.yaml at imgsz=160 (238.98s)\n",
      "Benchmarks legend:  - ✅ Success  - ❎ Export passed but validation failed  - ❌️ Export failed\n",
      "     Format Status❔  Size (MB)  metrics/mAP50-95(B)  Inference time (ms/im)      FPS\n",
      "0  TensorRT       ✅       19.9               0.4436                    0.67  1496.39\n",
      "\n"
     ]
    }
   ],
   "source": [
    "for format in test_formats:\n",
    "    result = benchmark(model=model_path, data=datasets, device=0,format=format)\n",
    "    half_result = benchmark(model=model_path, data=datasets, device=0,format=format,half=True)\n",
    "    half_result['Format'] = half_result['Format'] + '_half'\n",
    "    \n",
    "    all_result = pd.concat([all_result,result],ignore_index=True)\n",
    "    all_result = pd.concat([all_result,half_result],ignore_index=True)"
   ]
  },
  {
   "cell_type": "code",
   "execution_count": 4,
   "id": "22fde203-c37a-4210-a18b-190b7b333870",
   "metadata": {},
   "outputs": [
    {
     "data": {
      "text/html": [
       "<div>\n",
       "<style scoped>\n",
       "    .dataframe tbody tr th:only-of-type {\n",
       "        vertical-align: middle;\n",
       "    }\n",
       "\n",
       "    .dataframe tbody tr th {\n",
       "        vertical-align: top;\n",
       "    }\n",
       "\n",
       "    .dataframe thead th {\n",
       "        text-align: right;\n",
       "    }\n",
       "</style>\n",
       "<table border=\"1\" class=\"dataframe\">\n",
       "  <thead>\n",
       "    <tr style=\"text-align: right;\">\n",
       "      <th></th>\n",
       "      <th>Format</th>\n",
       "      <th>Status❔</th>\n",
       "      <th>Size (MB)</th>\n",
       "      <th>metrics/mAP50-95(B)</th>\n",
       "      <th>Inference time (ms/im)</th>\n",
       "      <th>FPS</th>\n",
       "    </tr>\n",
       "  </thead>\n",
       "  <tbody>\n",
       "    <tr>\n",
       "      <th>0</th>\n",
       "      <td>PyTorch</td>\n",
       "      <td>✅</td>\n",
       "      <td>18.3</td>\n",
       "      <td>0.4663</td>\n",
       "      <td>3.73</td>\n",
       "      <td>267.80</td>\n",
       "    </tr>\n",
       "    <tr>\n",
       "      <th>1</th>\n",
       "      <td>PyTorch_half</td>\n",
       "      <td>✅</td>\n",
       "      <td>18.3</td>\n",
       "      <td>0.4661</td>\n",
       "      <td>3.82</td>\n",
       "      <td>261.88</td>\n",
       "    </tr>\n",
       "    <tr>\n",
       "      <th>2</th>\n",
       "      <td>TorchScript</td>\n",
       "      <td>✅</td>\n",
       "      <td>36.4</td>\n",
       "      <td>0.4434</td>\n",
       "      <td>2.18</td>\n",
       "      <td>458.17</td>\n",
       "    </tr>\n",
       "    <tr>\n",
       "      <th>3</th>\n",
       "      <td>TorchScript_half</td>\n",
       "      <td>✅</td>\n",
       "      <td>36.4</td>\n",
       "      <td>0.4434</td>\n",
       "      <td>2.25</td>\n",
       "      <td>444.90</td>\n",
       "    </tr>\n",
       "    <tr>\n",
       "      <th>4</th>\n",
       "      <td>ONNX</td>\n",
       "      <td>✅</td>\n",
       "      <td>36.0</td>\n",
       "      <td>0.4434</td>\n",
       "      <td>2.03</td>\n",
       "      <td>491.49</td>\n",
       "    </tr>\n",
       "    <tr>\n",
       "      <th>5</th>\n",
       "      <td>ONNX_half</td>\n",
       "      <td>✅</td>\n",
       "      <td>18.0</td>\n",
       "      <td>0.4430</td>\n",
       "      <td>2.19</td>\n",
       "      <td>456.06</td>\n",
       "    </tr>\n",
       "    <tr>\n",
       "      <th>6</th>\n",
       "      <td>TensorRT</td>\n",
       "      <td>✅</td>\n",
       "      <td>44.2</td>\n",
       "      <td>0.4434</td>\n",
       "      <td>1.09</td>\n",
       "      <td>919.13</td>\n",
       "    </tr>\n",
       "    <tr>\n",
       "      <th>7</th>\n",
       "      <td>TensorRT_half</td>\n",
       "      <td>✅</td>\n",
       "      <td>19.9</td>\n",
       "      <td>0.4436</td>\n",
       "      <td>0.67</td>\n",
       "      <td>1496.39</td>\n",
       "    </tr>\n",
       "  </tbody>\n",
       "</table>\n",
       "</div>"
      ],
      "text/plain": [
       "             Format Status❔  Size (MB)  metrics/mAP50-95(B)  Inference time (ms/im)      FPS\n",
       "0           PyTorch       ✅       18.3               0.4663                    3.73   267.80\n",
       "1      PyTorch_half       ✅       18.3               0.4661                    3.82   261.88\n",
       "2       TorchScript       ✅       36.4               0.4434                    2.18   458.17\n",
       "3  TorchScript_half       ✅       36.4               0.4434                    2.25   444.90\n",
       "4              ONNX       ✅       36.0               0.4434                    2.03   491.49\n",
       "5         ONNX_half       ✅       18.0               0.4430                    2.19   456.06\n",
       "6          TensorRT       ✅       44.2               0.4434                    1.09   919.13\n",
       "7     TensorRT_half       ✅       19.9               0.4436                    0.67  1496.39"
      ]
     },
     "execution_count": 4,
     "metadata": {},
     "output_type": "execute_result"
    }
   ],
   "source": [
    "all_result"
   ]
  },
  {
   "cell_type": "code",
   "execution_count": 6,
   "id": "ba8229f9-9ec4-4ce8-b523-3c1c8a52004f",
   "metadata": {},
   "outputs": [
    {
     "name": "stdout",
     "output_type": "stream",
     "text": [
      "Setup complete ✅ (128 CPUs, 503.1 GB RAM, 255.6/380.8 GB disk)\n",
      "\n",
      "Benchmarks complete for /mnt/user/license_detection/finetune/artifact_downloads/14be0ff37e03403b9f50b3cd4e8dd7a5/weights/best.pt on ./datasets/data.yaml at imgsz=160 (578.13s)\n",
      "Benchmarks legend:  - ✅ Success  - ❎ Export passed but validation failed  - ❌️ Export failed\n",
      "  Format Status❔  Size (MB)  metrics/mAP50-95(B)  Inference time (ms/im)   FPS\n",
      "0   ONNX       ✅       36.0               0.4434                  176.36  5.67\n",
      "\n"
     ]
    },
    {
     "data": {
      "text/html": [
       "<div>\n",
       "<style scoped>\n",
       "    .dataframe tbody tr th:only-of-type {\n",
       "        vertical-align: middle;\n",
       "    }\n",
       "\n",
       "    .dataframe tbody tr th {\n",
       "        vertical-align: top;\n",
       "    }\n",
       "\n",
       "    .dataframe thead th {\n",
       "        text-align: right;\n",
       "    }\n",
       "</style>\n",
       "<table border=\"1\" class=\"dataframe\">\n",
       "  <thead>\n",
       "    <tr style=\"text-align: right;\">\n",
       "      <th></th>\n",
       "      <th>Format</th>\n",
       "      <th>Status❔</th>\n",
       "      <th>Size (MB)</th>\n",
       "      <th>metrics/mAP50-95(B)</th>\n",
       "      <th>Inference time (ms/im)</th>\n",
       "      <th>FPS</th>\n",
       "    </tr>\n",
       "  </thead>\n",
       "  <tbody>\n",
       "    <tr>\n",
       "      <th>0</th>\n",
       "      <td>ONNX</td>\n",
       "      <td>✅</td>\n",
       "      <td>36.0</td>\n",
       "      <td>0.4434</td>\n",
       "      <td>176.36</td>\n",
       "      <td>5.67</td>\n",
       "    </tr>\n",
       "  </tbody>\n",
       "</table>\n",
       "</div>"
      ],
      "text/plain": [
       "  Format Status❔  Size (MB)  metrics/mAP50-95(B)  Inference time (ms/im)   FPS\n",
       "0   ONNX       ✅       36.0               0.4434                  176.36  5.67"
      ]
     },
     "execution_count": 6,
     "metadata": {},
     "output_type": "execute_result"
    }
   ],
   "source": [
    "onnx_cpu = benchmark(model=model_path, data=datasets, device='cpu', format='onnx')\n",
    "onnx_cpu"
   ]
  },
  {
   "cell_type": "code",
   "execution_count": 9,
   "id": "458d6773-15dd-4963-b798-b6f280d9d712",
   "metadata": {},
   "outputs": [],
   "source": [
    "# onnx_gpu = benchmark(model=\"/mnt/user/license_detection/finetune/artifact_downloads/14be0ff37e03403b9f50b3cd4e8dd7a5/weights/best.pt\", data=datasets, device=0,format='onnx')\n",
    "# onnx_gpu"
   ]
  },
  {
   "cell_type": "code",
   "execution_count": 10,
   "id": "be6e8d0c-c1f6-45b2-b135-48ad247bb959",
   "metadata": {},
   "outputs": [],
   "source": [
    "# from ultralytics import YOLO\n",
    "\n",
    "# model = YOLO(\"/mnt/user/license_detection/finetune/artifact_downloads/14be0ff37e03403b9f50b3cd4e8dd7a5/weights/best.onnx\")"
   ]
  },
  {
   "cell_type": "code",
   "execution_count": 11,
   "id": "6a57b9ca-044b-49ec-a2c3-f094a4d2d977",
   "metadata": {},
   "outputs": [],
   "source": [
    "# model('Samples/car_image.jpg')"
   ]
  },
  {
   "cell_type": "code",
   "execution_count": null,
   "id": "c56341c2-1a03-4169-8b72-38f2ed9c664c",
   "metadata": {},
   "outputs": [],
   "source": []
  }
 ],
 "metadata": {
  "kernelspec": {
   "display_name": "Python 3 (ipykernel)",
   "language": "python",
   "name": "python3"
  },
  "language_info": {
   "codemirror_mode": {
    "name": "ipython",
    "version": 3
   },
   "file_extension": ".py",
   "mimetype": "text/x-python",
   "name": "python",
   "nbconvert_exporter": "python",
   "pygments_lexer": "ipython3",
   "version": "3.11.9"
  }
 },
 "nbformat": 4,
 "nbformat_minor": 5
}
